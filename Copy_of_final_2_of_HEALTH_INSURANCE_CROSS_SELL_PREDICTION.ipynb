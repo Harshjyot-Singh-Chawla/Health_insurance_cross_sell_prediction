{
  "cells": [
    {
      "cell_type": "markdown",
      "metadata": {
        "id": "view-in-github",
        "colab_type": "text"
      },
      "source": [
        "<a href=\"https://colab.research.google.com/github/Harshjyot-Singh-Chawla/Health_insurance_cross_sell_prediction/blob/main/Copy_of_final_2_of_HEALTH_INSURANCE_CROSS_SELL_PREDICTION.ipynb\" target=\"_parent\"><img src=\"https://colab.research.google.com/assets/colab-badge.svg\" alt=\"Open In Colab\"/></a>"
      ]
    },
    {
      "cell_type": "markdown",
      "source": [
        "# **Problem Statement**"
      ],
      "metadata": {
        "id": "f4mokVsQjmvM"
      }
    },
    {
      "cell_type": "markdown",
      "metadata": {
        "id": "jJAmGx75jJk1"
      },
      "source": [
        "Our client is an Insurance company that has provided Health Insurance to its customers now they need your help in building a model to predict whether the policyholders (customers) from past year will also be interested in Vehicle Insurance provided by the company.\n",
        "\n",
        "An insurance policy is an arrangement by which a company undertakes to provide a guarantee of compensation for specified loss, damage, illness, or death in return for the payment of a specified premium. A premium is a sum of money that the customer needs to pay regularly to an insurance company for this guarantee.\n",
        "\n",
        "For example, you may pay a premium of Rs. 5000 each year for a health insurance cover of Rs. 200,000/- so that if, God forbid, you fall ill and need to be hospitalised in that year, the insurance provider company will bear the cost of hospitalisation etc. for upto Rs. 200,000. Now if you are wondering how can company bear such high hospitalisation cost when it charges a premium of only Rs. 5000/-, that is where the concept of probabilities comes in picture. For example, like you, there may be 100 customers who would be paying a premium of Rs. 5000 every year, but only a few of them (say 2-3) would get hospitalised that year and not everyone. This way everyone shares the risk of everyone else.\n",
        "\n",
        "Just like medical insurance, there is vehicle insurance where every year customer needs to pay a premium of certain amount to insurance provider company so that in case of unfortunate accident by the vehicle, the insurance provider company will provide a compensation (called ‘sum assured’) to the customer.\n",
        "\n",
        "Building a model to predict whether a customer would be interested in Vehicle Insurance is extremely helpful for the company because it can then accordingly plan its communication strategy to reach out to those customers and optimise its business model and revenue.\n",
        "\n",
        "Now, in order to predict, whether the customer would be interested in Vehicle insurance, you have information about demographics (gender, age, region code type), Vehicles (Vehicle Age, Damage), Policy (Premium, sourcing channel) etc."
      ]
    },
    {
      "cell_type": "markdown",
      "metadata": {
        "id": "AzGDqdC4fZ-b"
      },
      "source": [
        "# **Attribute Information**"
      ]
    },
    {
      "cell_type": "markdown",
      "metadata": {
        "id": "oEJxl68MjYbs"
      },
      "source": [
        "1. id :\tUnique ID for the customer\n",
        "\n",
        "2. Gender\t: Gender of the customer\n",
        "\n",
        "3. Age :\tAge of the customer\n",
        "\n",
        "4. Driving_License\t0 : Customer does not have DL, 1 : Customer already has DL\n",
        "\n",
        "5. Region_Code :\tUnique code for the region of the customer\n",
        "\n",
        "6. Previously_Insured\t: 1 : Customer already has Vehicle Insurance, 0 : Customer doesn't have Vehicle Insurance\n",
        "\n",
        "7. Vehicle_Age :\tAge of the Vehicle\n",
        "\n",
        "8. Vehicle_Damage\t :1 : Customer got his/her vehicle damaged in the past. 0 : Customer didn't get his/her vehicle damaged in the past.\n",
        "\n",
        "9. Annual_Premium\t: The amount customer needs to pay as premium in the year\n",
        "\n",
        "10. PolicySalesChannel :\tAnonymized Code for the channel of outreaching to the customer ie. Different Agents, Over Mail, Over Phone, In Person, etc.\n",
        "\n",
        "11. Vintage :\tNumber of Days, Customer has been associated with the company\n",
        "\n",
        "12. Response :\t1 : Customer is interested, 0 : Customer is not interested"
      ]
    },
    {
      "cell_type": "code",
      "source": [
        "# Importing libraries for data handling\n",
        "import pandas as pd\n",
        "import numpy as np\n",
        "\n",
        "# Importing libraries for data visualization\n",
        "import matplotlib.pyplot as plt\n",
        "import seaborn as sns\n",
        "\n",
        "# To avoid the warning that aren't necessarily exceptions\n",
        "import warnings\n",
        "warnings.filterwarnings('ignore')\n",
        "\n",
        "# Feature Engineering libraries\n",
        "from sklearn.model_selection import train_test_split \n",
        "from collections import Counter\n",
        "from sklearn.preprocessing import StandardScaler, OneHotEncoder, LabelEncoder\n",
        "from sklearn.preprocessing import MinMaxScaler\n",
        "\n",
        "# Model Selection and Metrics libraries\n",
        "from sklearn.linear_model import LogisticRegression\n",
        "from sklearn.tree import DecisionTreeClassifier\n",
        "from sklearn.ensemble import RandomForestClassifier\n",
        "import xgboost as xgb\n",
        "from sklearn.metrics import precision_score,recall_score,accuracy_score,f1_score,confusion_matrix,roc_auc_score,classification_report\n",
        "from sklearn.metrics import confusion_matrix,classification_report,plot_confusion_matrix\n",
        "from sklearn.metrics import plot_precision_recall_curve,plot_roc_curve"
      ],
      "metadata": {
        "id": "SYuHbVO67e_j"
      },
      "execution_count": 1,
      "outputs": []
    },
    {
      "cell_type": "markdown",
      "source": [
        "# **Import Data**"
      ],
      "metadata": {
        "id": "ZHVyDth27e_s"
      }
    },
    {
      "cell_type": "code",
      "source": [
        "# Mounting of drive\n",
        "from google.colab import drive\n",
        "drive.mount('/content/drive')"
      ],
      "metadata": {
        "colab": {
          "base_uri": "https://localhost:8080/"
        },
        "outputId": "58e70d46-c713-4c00-ce6e-b5d4ea19cf56",
        "id": "EYEtY88O7e_s"
      },
      "execution_count": 2,
      "outputs": [
        {
          "output_type": "stream",
          "name": "stdout",
          "text": [
            "Mounted at /content/drive\n"
          ]
        }
      ]
    },
    {
      "cell_type": "code",
      "source": [
        "#path to given CSV file\n",
        "path= \"/content/drive/MyDrive/Health_insurance_cross_sell_prediction-Harshjyot singh chawla/Copy of TRAIN-HEALTH INSURANCE CROSS SELL PREDICTION.csv\"\n"
      ],
      "metadata": {
        "id": "t6fky7bJkHWv"
      },
      "execution_count": 3,
      "outputs": []
    },
    {
      "cell_type": "code",
      "source": [
        "# Loading of data\n",
        "Health_df = pd.read_csv(path)"
      ],
      "metadata": {
        "id": "wnyCYrrE7e_t"
      },
      "execution_count": 4,
      "outputs": []
    },
    {
      "cell_type": "markdown",
      "source": [
        "# **Data Summary**"
      ],
      "metadata": {
        "id": "9BHD49Nk7e_t"
      }
    },
    {
      "cell_type": "code",
      "source": [
        "# Showing first 5 rows of our dataframe\n",
        "Health_df.head()"
      ],
      "metadata": {
        "colab": {
          "base_uri": "https://localhost:8080/",
          "height": 206
        },
        "outputId": "7986485b-e591-4c76-e57b-80541c51659f",
        "id": "FTemx7fn7e_t"
      },
      "execution_count": null,
      "outputs": [
        {
          "output_type": "execute_result",
          "data": {
            "text/plain": [
              "   id  Gender  Age  Driving_License  Region_Code  Previously_Insured  \\\n",
              "0   1    Male   44                1         28.0                   0   \n",
              "1   2    Male   76                1          3.0                   0   \n",
              "2   3    Male   47                1         28.0                   0   \n",
              "3   4    Male   21                1         11.0                   1   \n",
              "4   5  Female   29                1         41.0                   1   \n",
              "\n",
              "  Vehicle_Age Vehicle_Damage  Annual_Premium  Policy_Sales_Channel  Vintage  \\\n",
              "0   > 2 Years            Yes         40454.0                  26.0      217   \n",
              "1    1-2 Year             No         33536.0                  26.0      183   \n",
              "2   > 2 Years            Yes         38294.0                  26.0       27   \n",
              "3    < 1 Year             No         28619.0                 152.0      203   \n",
              "4    < 1 Year             No         27496.0                 152.0       39   \n",
              "\n",
              "   Response  \n",
              "0         1  \n",
              "1         0  \n",
              "2         1  \n",
              "3         0  \n",
              "4         0  "
            ],
            "text/html": [
              "\n",
              "  <div id=\"df-4db765df-aafb-486f-a8bd-98dd7b4a3c88\">\n",
              "    <div class=\"colab-df-container\">\n",
              "      <div>\n",
              "<style scoped>\n",
              "    .dataframe tbody tr th:only-of-type {\n",
              "        vertical-align: middle;\n",
              "    }\n",
              "\n",
              "    .dataframe tbody tr th {\n",
              "        vertical-align: top;\n",
              "    }\n",
              "\n",
              "    .dataframe thead th {\n",
              "        text-align: right;\n",
              "    }\n",
              "</style>\n",
              "<table border=\"1\" class=\"dataframe\">\n",
              "  <thead>\n",
              "    <tr style=\"text-align: right;\">\n",
              "      <th></th>\n",
              "      <th>id</th>\n",
              "      <th>Gender</th>\n",
              "      <th>Age</th>\n",
              "      <th>Driving_License</th>\n",
              "      <th>Region_Code</th>\n",
              "      <th>Previously_Insured</th>\n",
              "      <th>Vehicle_Age</th>\n",
              "      <th>Vehicle_Damage</th>\n",
              "      <th>Annual_Premium</th>\n",
              "      <th>Policy_Sales_Channel</th>\n",
              "      <th>Vintage</th>\n",
              "      <th>Response</th>\n",
              "    </tr>\n",
              "  </thead>\n",
              "  <tbody>\n",
              "    <tr>\n",
              "      <th>0</th>\n",
              "      <td>1</td>\n",
              "      <td>Male</td>\n",
              "      <td>44</td>\n",
              "      <td>1</td>\n",
              "      <td>28.0</td>\n",
              "      <td>0</td>\n",
              "      <td>&gt; 2 Years</td>\n",
              "      <td>Yes</td>\n",
              "      <td>40454.0</td>\n",
              "      <td>26.0</td>\n",
              "      <td>217</td>\n",
              "      <td>1</td>\n",
              "    </tr>\n",
              "    <tr>\n",
              "      <th>1</th>\n",
              "      <td>2</td>\n",
              "      <td>Male</td>\n",
              "      <td>76</td>\n",
              "      <td>1</td>\n",
              "      <td>3.0</td>\n",
              "      <td>0</td>\n",
              "      <td>1-2 Year</td>\n",
              "      <td>No</td>\n",
              "      <td>33536.0</td>\n",
              "      <td>26.0</td>\n",
              "      <td>183</td>\n",
              "      <td>0</td>\n",
              "    </tr>\n",
              "    <tr>\n",
              "      <th>2</th>\n",
              "      <td>3</td>\n",
              "      <td>Male</td>\n",
              "      <td>47</td>\n",
              "      <td>1</td>\n",
              "      <td>28.0</td>\n",
              "      <td>0</td>\n",
              "      <td>&gt; 2 Years</td>\n",
              "      <td>Yes</td>\n",
              "      <td>38294.0</td>\n",
              "      <td>26.0</td>\n",
              "      <td>27</td>\n",
              "      <td>1</td>\n",
              "    </tr>\n",
              "    <tr>\n",
              "      <th>3</th>\n",
              "      <td>4</td>\n",
              "      <td>Male</td>\n",
              "      <td>21</td>\n",
              "      <td>1</td>\n",
              "      <td>11.0</td>\n",
              "      <td>1</td>\n",
              "      <td>&lt; 1 Year</td>\n",
              "      <td>No</td>\n",
              "      <td>28619.0</td>\n",
              "      <td>152.0</td>\n",
              "      <td>203</td>\n",
              "      <td>0</td>\n",
              "    </tr>\n",
              "    <tr>\n",
              "      <th>4</th>\n",
              "      <td>5</td>\n",
              "      <td>Female</td>\n",
              "      <td>29</td>\n",
              "      <td>1</td>\n",
              "      <td>41.0</td>\n",
              "      <td>1</td>\n",
              "      <td>&lt; 1 Year</td>\n",
              "      <td>No</td>\n",
              "      <td>27496.0</td>\n",
              "      <td>152.0</td>\n",
              "      <td>39</td>\n",
              "      <td>0</td>\n",
              "    </tr>\n",
              "  </tbody>\n",
              "</table>\n",
              "</div>\n",
              "      <button class=\"colab-df-convert\" onclick=\"convertToInteractive('df-4db765df-aafb-486f-a8bd-98dd7b4a3c88')\"\n",
              "              title=\"Convert this dataframe to an interactive table.\"\n",
              "              style=\"display:none;\">\n",
              "        \n",
              "  <svg xmlns=\"http://www.w3.org/2000/svg\" height=\"24px\"viewBox=\"0 0 24 24\"\n",
              "       width=\"24px\">\n",
              "    <path d=\"M0 0h24v24H0V0z\" fill=\"none\"/>\n",
              "    <path d=\"M18.56 5.44l.94 2.06.94-2.06 2.06-.94-2.06-.94-.94-2.06-.94 2.06-2.06.94zm-11 1L8.5 8.5l.94-2.06 2.06-.94-2.06-.94L8.5 2.5l-.94 2.06-2.06.94zm10 10l.94 2.06.94-2.06 2.06-.94-2.06-.94-.94-2.06-.94 2.06-2.06.94z\"/><path d=\"M17.41 7.96l-1.37-1.37c-.4-.4-.92-.59-1.43-.59-.52 0-1.04.2-1.43.59L10.3 9.45l-7.72 7.72c-.78.78-.78 2.05 0 2.83L4 21.41c.39.39.9.59 1.41.59.51 0 1.02-.2 1.41-.59l7.78-7.78 2.81-2.81c.8-.78.8-2.07 0-2.86zM5.41 20L4 18.59l7.72-7.72 1.47 1.35L5.41 20z\"/>\n",
              "  </svg>\n",
              "      </button>\n",
              "      \n",
              "  <style>\n",
              "    .colab-df-container {\n",
              "      display:flex;\n",
              "      flex-wrap:wrap;\n",
              "      gap: 12px;\n",
              "    }\n",
              "\n",
              "    .colab-df-convert {\n",
              "      background-color: #E8F0FE;\n",
              "      border: none;\n",
              "      border-radius: 50%;\n",
              "      cursor: pointer;\n",
              "      display: none;\n",
              "      fill: #1967D2;\n",
              "      height: 32px;\n",
              "      padding: 0 0 0 0;\n",
              "      width: 32px;\n",
              "    }\n",
              "\n",
              "    .colab-df-convert:hover {\n",
              "      background-color: #E2EBFA;\n",
              "      box-shadow: 0px 1px 2px rgba(60, 64, 67, 0.3), 0px 1px 3px 1px rgba(60, 64, 67, 0.15);\n",
              "      fill: #174EA6;\n",
              "    }\n",
              "\n",
              "    [theme=dark] .colab-df-convert {\n",
              "      background-color: #3B4455;\n",
              "      fill: #D2E3FC;\n",
              "    }\n",
              "\n",
              "    [theme=dark] .colab-df-convert:hover {\n",
              "      background-color: #434B5C;\n",
              "      box-shadow: 0px 1px 3px 1px rgba(0, 0, 0, 0.15);\n",
              "      filter: drop-shadow(0px 1px 2px rgba(0, 0, 0, 0.3));\n",
              "      fill: #FFFFFF;\n",
              "    }\n",
              "  </style>\n",
              "\n",
              "      <script>\n",
              "        const buttonEl =\n",
              "          document.querySelector('#df-4db765df-aafb-486f-a8bd-98dd7b4a3c88 button.colab-df-convert');\n",
              "        buttonEl.style.display =\n",
              "          google.colab.kernel.accessAllowed ? 'block' : 'none';\n",
              "\n",
              "        async function convertToInteractive(key) {\n",
              "          const element = document.querySelector('#df-4db765df-aafb-486f-a8bd-98dd7b4a3c88');\n",
              "          const dataTable =\n",
              "            await google.colab.kernel.invokeFunction('convertToInteractive',\n",
              "                                                     [key], {});\n",
              "          if (!dataTable) return;\n",
              "\n",
              "          const docLinkHtml = 'Like what you see? Visit the ' +\n",
              "            '<a target=\"_blank\" href=https://colab.research.google.com/notebooks/data_table.ipynb>data table notebook</a>'\n",
              "            + ' to learn more about interactive tables.';\n",
              "          element.innerHTML = '';\n",
              "          dataTable['output_type'] = 'display_data';\n",
              "          await google.colab.output.renderOutput(dataTable, element);\n",
              "          const docLink = document.createElement('div');\n",
              "          docLink.innerHTML = docLinkHtml;\n",
              "          element.appendChild(docLink);\n",
              "        }\n",
              "      </script>\n",
              "    </div>\n",
              "  </div>\n",
              "  "
            ]
          },
          "metadata": {},
          "execution_count": 5
        }
      ]
    },
    {
      "cell_type": "code",
      "source": [
        "# Showing last 5 rows of our dataframe\n",
        "Health_df.tail()"
      ],
      "metadata": {
        "colab": {
          "base_uri": "https://localhost:8080/",
          "height": 206
        },
        "outputId": "16f52b53-de44-4f38-847b-4d432b83e404",
        "id": "M-3LLCDp7e_t"
      },
      "execution_count": null,
      "outputs": [
        {
          "output_type": "execute_result",
          "data": {
            "text/plain": [
              "            id  Gender  Age  Driving_License  Region_Code  Previously_Insured  \\\n",
              "381104  381105    Male   74                1         26.0                   1   \n",
              "381105  381106    Male   30                1         37.0                   1   \n",
              "381106  381107    Male   21                1         30.0                   1   \n",
              "381107  381108  Female   68                1         14.0                   0   \n",
              "381108  381109    Male   46                1         29.0                   0   \n",
              "\n",
              "       Vehicle_Age Vehicle_Damage  Annual_Premium  Policy_Sales_Channel  \\\n",
              "381104    1-2 Year             No         30170.0                  26.0   \n",
              "381105    < 1 Year             No         40016.0                 152.0   \n",
              "381106    < 1 Year             No         35118.0                 160.0   \n",
              "381107   > 2 Years            Yes         44617.0                 124.0   \n",
              "381108    1-2 Year             No         41777.0                  26.0   \n",
              "\n",
              "        Vintage  Response  \n",
              "381104       88         0  \n",
              "381105      131         0  \n",
              "381106      161         0  \n",
              "381107       74         0  \n",
              "381108      237         0  "
            ],
            "text/html": [
              "\n",
              "  <div id=\"df-982e4896-9bb9-4801-b012-9276788cd152\">\n",
              "    <div class=\"colab-df-container\">\n",
              "      <div>\n",
              "<style scoped>\n",
              "    .dataframe tbody tr th:only-of-type {\n",
              "        vertical-align: middle;\n",
              "    }\n",
              "\n",
              "    .dataframe tbody tr th {\n",
              "        vertical-align: top;\n",
              "    }\n",
              "\n",
              "    .dataframe thead th {\n",
              "        text-align: right;\n",
              "    }\n",
              "</style>\n",
              "<table border=\"1\" class=\"dataframe\">\n",
              "  <thead>\n",
              "    <tr style=\"text-align: right;\">\n",
              "      <th></th>\n",
              "      <th>id</th>\n",
              "      <th>Gender</th>\n",
              "      <th>Age</th>\n",
              "      <th>Driving_License</th>\n",
              "      <th>Region_Code</th>\n",
              "      <th>Previously_Insured</th>\n",
              "      <th>Vehicle_Age</th>\n",
              "      <th>Vehicle_Damage</th>\n",
              "      <th>Annual_Premium</th>\n",
              "      <th>Policy_Sales_Channel</th>\n",
              "      <th>Vintage</th>\n",
              "      <th>Response</th>\n",
              "    </tr>\n",
              "  </thead>\n",
              "  <tbody>\n",
              "    <tr>\n",
              "      <th>381104</th>\n",
              "      <td>381105</td>\n",
              "      <td>Male</td>\n",
              "      <td>74</td>\n",
              "      <td>1</td>\n",
              "      <td>26.0</td>\n",
              "      <td>1</td>\n",
              "      <td>1-2 Year</td>\n",
              "      <td>No</td>\n",
              "      <td>30170.0</td>\n",
              "      <td>26.0</td>\n",
              "      <td>88</td>\n",
              "      <td>0</td>\n",
              "    </tr>\n",
              "    <tr>\n",
              "      <th>381105</th>\n",
              "      <td>381106</td>\n",
              "      <td>Male</td>\n",
              "      <td>30</td>\n",
              "      <td>1</td>\n",
              "      <td>37.0</td>\n",
              "      <td>1</td>\n",
              "      <td>&lt; 1 Year</td>\n",
              "      <td>No</td>\n",
              "      <td>40016.0</td>\n",
              "      <td>152.0</td>\n",
              "      <td>131</td>\n",
              "      <td>0</td>\n",
              "    </tr>\n",
              "    <tr>\n",
              "      <th>381106</th>\n",
              "      <td>381107</td>\n",
              "      <td>Male</td>\n",
              "      <td>21</td>\n",
              "      <td>1</td>\n",
              "      <td>30.0</td>\n",
              "      <td>1</td>\n",
              "      <td>&lt; 1 Year</td>\n",
              "      <td>No</td>\n",
              "      <td>35118.0</td>\n",
              "      <td>160.0</td>\n",
              "      <td>161</td>\n",
              "      <td>0</td>\n",
              "    </tr>\n",
              "    <tr>\n",
              "      <th>381107</th>\n",
              "      <td>381108</td>\n",
              "      <td>Female</td>\n",
              "      <td>68</td>\n",
              "      <td>1</td>\n",
              "      <td>14.0</td>\n",
              "      <td>0</td>\n",
              "      <td>&gt; 2 Years</td>\n",
              "      <td>Yes</td>\n",
              "      <td>44617.0</td>\n",
              "      <td>124.0</td>\n",
              "      <td>74</td>\n",
              "      <td>0</td>\n",
              "    </tr>\n",
              "    <tr>\n",
              "      <th>381108</th>\n",
              "      <td>381109</td>\n",
              "      <td>Male</td>\n",
              "      <td>46</td>\n",
              "      <td>1</td>\n",
              "      <td>29.0</td>\n",
              "      <td>0</td>\n",
              "      <td>1-2 Year</td>\n",
              "      <td>No</td>\n",
              "      <td>41777.0</td>\n",
              "      <td>26.0</td>\n",
              "      <td>237</td>\n",
              "      <td>0</td>\n",
              "    </tr>\n",
              "  </tbody>\n",
              "</table>\n",
              "</div>\n",
              "      <button class=\"colab-df-convert\" onclick=\"convertToInteractive('df-982e4896-9bb9-4801-b012-9276788cd152')\"\n",
              "              title=\"Convert this dataframe to an interactive table.\"\n",
              "              style=\"display:none;\">\n",
              "        \n",
              "  <svg xmlns=\"http://www.w3.org/2000/svg\" height=\"24px\"viewBox=\"0 0 24 24\"\n",
              "       width=\"24px\">\n",
              "    <path d=\"M0 0h24v24H0V0z\" fill=\"none\"/>\n",
              "    <path d=\"M18.56 5.44l.94 2.06.94-2.06 2.06-.94-2.06-.94-.94-2.06-.94 2.06-2.06.94zm-11 1L8.5 8.5l.94-2.06 2.06-.94-2.06-.94L8.5 2.5l-.94 2.06-2.06.94zm10 10l.94 2.06.94-2.06 2.06-.94-2.06-.94-.94-2.06-.94 2.06-2.06.94z\"/><path d=\"M17.41 7.96l-1.37-1.37c-.4-.4-.92-.59-1.43-.59-.52 0-1.04.2-1.43.59L10.3 9.45l-7.72 7.72c-.78.78-.78 2.05 0 2.83L4 21.41c.39.39.9.59 1.41.59.51 0 1.02-.2 1.41-.59l7.78-7.78 2.81-2.81c.8-.78.8-2.07 0-2.86zM5.41 20L4 18.59l7.72-7.72 1.47 1.35L5.41 20z\"/>\n",
              "  </svg>\n",
              "      </button>\n",
              "      \n",
              "  <style>\n",
              "    .colab-df-container {\n",
              "      display:flex;\n",
              "      flex-wrap:wrap;\n",
              "      gap: 12px;\n",
              "    }\n",
              "\n",
              "    .colab-df-convert {\n",
              "      background-color: #E8F0FE;\n",
              "      border: none;\n",
              "      border-radius: 50%;\n",
              "      cursor: pointer;\n",
              "      display: none;\n",
              "      fill: #1967D2;\n",
              "      height: 32px;\n",
              "      padding: 0 0 0 0;\n",
              "      width: 32px;\n",
              "    }\n",
              "\n",
              "    .colab-df-convert:hover {\n",
              "      background-color: #E2EBFA;\n",
              "      box-shadow: 0px 1px 2px rgba(60, 64, 67, 0.3), 0px 1px 3px 1px rgba(60, 64, 67, 0.15);\n",
              "      fill: #174EA6;\n",
              "    }\n",
              "\n",
              "    [theme=dark] .colab-df-convert {\n",
              "      background-color: #3B4455;\n",
              "      fill: #D2E3FC;\n",
              "    }\n",
              "\n",
              "    [theme=dark] .colab-df-convert:hover {\n",
              "      background-color: #434B5C;\n",
              "      box-shadow: 0px 1px 3px 1px rgba(0, 0, 0, 0.15);\n",
              "      filter: drop-shadow(0px 1px 2px rgba(0, 0, 0, 0.3));\n",
              "      fill: #FFFFFF;\n",
              "    }\n",
              "  </style>\n",
              "\n",
              "      <script>\n",
              "        const buttonEl =\n",
              "          document.querySelector('#df-982e4896-9bb9-4801-b012-9276788cd152 button.colab-df-convert');\n",
              "        buttonEl.style.display =\n",
              "          google.colab.kernel.accessAllowed ? 'block' : 'none';\n",
              "\n",
              "        async function convertToInteractive(key) {\n",
              "          const element = document.querySelector('#df-982e4896-9bb9-4801-b012-9276788cd152');\n",
              "          const dataTable =\n",
              "            await google.colab.kernel.invokeFunction('convertToInteractive',\n",
              "                                                     [key], {});\n",
              "          if (!dataTable) return;\n",
              "\n",
              "          const docLinkHtml = 'Like what you see? Visit the ' +\n",
              "            '<a target=\"_blank\" href=https://colab.research.google.com/notebooks/data_table.ipynb>data table notebook</a>'\n",
              "            + ' to learn more about interactive tables.';\n",
              "          element.innerHTML = '';\n",
              "          dataTable['output_type'] = 'display_data';\n",
              "          await google.colab.output.renderOutput(dataTable, element);\n",
              "          const docLink = document.createElement('div');\n",
              "          docLink.innerHTML = docLinkHtml;\n",
              "          element.appendChild(docLink);\n",
              "        }\n",
              "      </script>\n",
              "    </div>\n",
              "  </div>\n",
              "  "
            ]
          },
          "metadata": {},
          "execution_count": 6
        }
      ]
    },
    {
      "cell_type": "code",
      "source": [
        "# Finding the size of the dataset\n",
        "Health_df.shape"
      ],
      "metadata": {
        "colab": {
          "base_uri": "https://localhost:8080/"
        },
        "outputId": "59ed2df2-e156-438b-f9f2-dd04bfb4859d",
        "id": "udSpYjI07e_t"
      },
      "execution_count": null,
      "outputs": [
        {
          "output_type": "execute_result",
          "data": {
            "text/plain": [
              "(381109, 12)"
            ]
          },
          "metadata": {},
          "execution_count": 7
        }
      ]
    },
    {
      "cell_type": "code",
      "source": [
        "# Check for null value and datatype of each column/Feature\n",
        "Health_df.info()"
      ],
      "metadata": {
        "colab": {
          "base_uri": "https://localhost:8080/"
        },
        "outputId": "d3f0203f-9339-4a96-8470-95b9d7892107",
        "id": "vHuOi-hY7e_t"
      },
      "execution_count": null,
      "outputs": [
        {
          "output_type": "stream",
          "name": "stdout",
          "text": [
            "<class 'pandas.core.frame.DataFrame'>\n",
            "RangeIndex: 381109 entries, 0 to 381108\n",
            "Data columns (total 12 columns):\n",
            " #   Column                Non-Null Count   Dtype  \n",
            "---  ------                --------------   -----  \n",
            " 0   id                    381109 non-null  int64  \n",
            " 1   Gender                381109 non-null  object \n",
            " 2   Age                   381109 non-null  int64  \n",
            " 3   Driving_License       381109 non-null  int64  \n",
            " 4   Region_Code           381109 non-null  float64\n",
            " 5   Previously_Insured    381109 non-null  int64  \n",
            " 6   Vehicle_Age           381109 non-null  object \n",
            " 7   Vehicle_Damage        381109 non-null  object \n",
            " 8   Annual_Premium        381109 non-null  float64\n",
            " 9   Policy_Sales_Channel  381109 non-null  float64\n",
            " 10  Vintage               381109 non-null  int64  \n",
            " 11  Response              381109 non-null  int64  \n",
            "dtypes: float64(3), int64(6), object(3)\n",
            "memory usage: 34.9+ MB\n"
          ]
        }
      ]
    },
    {
      "cell_type": "markdown",
      "source": [
        "\n",
        "**As per above observation we can say that : Dataset consists of 381109 rows & 12 columns. There are no Null or missing values present in the dataset.**"
      ],
      "metadata": {
        "id": "jU0NR0ZEFT-C"
      }
    },
    {
      "cell_type": "code",
      "source": [
        "# Descriptive Statistical Summary of Numeric Variables\n",
        "Health_df.describe()"
      ],
      "metadata": {
        "colab": {
          "base_uri": "https://localhost:8080/",
          "height": 300
        },
        "outputId": "221cdd6f-bd4f-4eb9-b277-a38a160cda2f",
        "id": "EqvDKfaL7e_u"
      },
      "execution_count": null,
      "outputs": [
        {
          "output_type": "execute_result",
          "data": {
            "text/plain": [
              "                  id            Age  Driving_License    Region_Code  \\\n",
              "count  381109.000000  381109.000000    381109.000000  381109.000000   \n",
              "mean   190555.000000      38.822584         0.997869      26.388807   \n",
              "std    110016.836208      15.511611         0.046110      13.229888   \n",
              "min         1.000000      20.000000         0.000000       0.000000   \n",
              "25%     95278.000000      25.000000         1.000000      15.000000   \n",
              "50%    190555.000000      36.000000         1.000000      28.000000   \n",
              "75%    285832.000000      49.000000         1.000000      35.000000   \n",
              "max    381109.000000      85.000000         1.000000      52.000000   \n",
              "\n",
              "       Previously_Insured  Annual_Premium  Policy_Sales_Channel  \\\n",
              "count       381109.000000   381109.000000         381109.000000   \n",
              "mean             0.458210    30564.389581            112.034295   \n",
              "std              0.498251    17213.155057             54.203995   \n",
              "min              0.000000     2630.000000              1.000000   \n",
              "25%              0.000000    24405.000000             29.000000   \n",
              "50%              0.000000    31669.000000            133.000000   \n",
              "75%              1.000000    39400.000000            152.000000   \n",
              "max              1.000000   540165.000000            163.000000   \n",
              "\n",
              "             Vintage       Response  \n",
              "count  381109.000000  381109.000000  \n",
              "mean      154.347397       0.122563  \n",
              "std        83.671304       0.327936  \n",
              "min        10.000000       0.000000  \n",
              "25%        82.000000       0.000000  \n",
              "50%       154.000000       0.000000  \n",
              "75%       227.000000       0.000000  \n",
              "max       299.000000       1.000000  "
            ],
            "text/html": [
              "\n",
              "  <div id=\"df-eb34d8d5-b243-4126-b696-0f2b14fce6ad\">\n",
              "    <div class=\"colab-df-container\">\n",
              "      <div>\n",
              "<style scoped>\n",
              "    .dataframe tbody tr th:only-of-type {\n",
              "        vertical-align: middle;\n",
              "    }\n",
              "\n",
              "    .dataframe tbody tr th {\n",
              "        vertical-align: top;\n",
              "    }\n",
              "\n",
              "    .dataframe thead th {\n",
              "        text-align: right;\n",
              "    }\n",
              "</style>\n",
              "<table border=\"1\" class=\"dataframe\">\n",
              "  <thead>\n",
              "    <tr style=\"text-align: right;\">\n",
              "      <th></th>\n",
              "      <th>id</th>\n",
              "      <th>Age</th>\n",
              "      <th>Driving_License</th>\n",
              "      <th>Region_Code</th>\n",
              "      <th>Previously_Insured</th>\n",
              "      <th>Annual_Premium</th>\n",
              "      <th>Policy_Sales_Channel</th>\n",
              "      <th>Vintage</th>\n",
              "      <th>Response</th>\n",
              "    </tr>\n",
              "  </thead>\n",
              "  <tbody>\n",
              "    <tr>\n",
              "      <th>count</th>\n",
              "      <td>381109.000000</td>\n",
              "      <td>381109.000000</td>\n",
              "      <td>381109.000000</td>\n",
              "      <td>381109.000000</td>\n",
              "      <td>381109.000000</td>\n",
              "      <td>381109.000000</td>\n",
              "      <td>381109.000000</td>\n",
              "      <td>381109.000000</td>\n",
              "      <td>381109.000000</td>\n",
              "    </tr>\n",
              "    <tr>\n",
              "      <th>mean</th>\n",
              "      <td>190555.000000</td>\n",
              "      <td>38.822584</td>\n",
              "      <td>0.997869</td>\n",
              "      <td>26.388807</td>\n",
              "      <td>0.458210</td>\n",
              "      <td>30564.389581</td>\n",
              "      <td>112.034295</td>\n",
              "      <td>154.347397</td>\n",
              "      <td>0.122563</td>\n",
              "    </tr>\n",
              "    <tr>\n",
              "      <th>std</th>\n",
              "      <td>110016.836208</td>\n",
              "      <td>15.511611</td>\n",
              "      <td>0.046110</td>\n",
              "      <td>13.229888</td>\n",
              "      <td>0.498251</td>\n",
              "      <td>17213.155057</td>\n",
              "      <td>54.203995</td>\n",
              "      <td>83.671304</td>\n",
              "      <td>0.327936</td>\n",
              "    </tr>\n",
              "    <tr>\n",
              "      <th>min</th>\n",
              "      <td>1.000000</td>\n",
              "      <td>20.000000</td>\n",
              "      <td>0.000000</td>\n",
              "      <td>0.000000</td>\n",
              "      <td>0.000000</td>\n",
              "      <td>2630.000000</td>\n",
              "      <td>1.000000</td>\n",
              "      <td>10.000000</td>\n",
              "      <td>0.000000</td>\n",
              "    </tr>\n",
              "    <tr>\n",
              "      <th>25%</th>\n",
              "      <td>95278.000000</td>\n",
              "      <td>25.000000</td>\n",
              "      <td>1.000000</td>\n",
              "      <td>15.000000</td>\n",
              "      <td>0.000000</td>\n",
              "      <td>24405.000000</td>\n",
              "      <td>29.000000</td>\n",
              "      <td>82.000000</td>\n",
              "      <td>0.000000</td>\n",
              "    </tr>\n",
              "    <tr>\n",
              "      <th>50%</th>\n",
              "      <td>190555.000000</td>\n",
              "      <td>36.000000</td>\n",
              "      <td>1.000000</td>\n",
              "      <td>28.000000</td>\n",
              "      <td>0.000000</td>\n",
              "      <td>31669.000000</td>\n",
              "      <td>133.000000</td>\n",
              "      <td>154.000000</td>\n",
              "      <td>0.000000</td>\n",
              "    </tr>\n",
              "    <tr>\n",
              "      <th>75%</th>\n",
              "      <td>285832.000000</td>\n",
              "      <td>49.000000</td>\n",
              "      <td>1.000000</td>\n",
              "      <td>35.000000</td>\n",
              "      <td>1.000000</td>\n",
              "      <td>39400.000000</td>\n",
              "      <td>152.000000</td>\n",
              "      <td>227.000000</td>\n",
              "      <td>0.000000</td>\n",
              "    </tr>\n",
              "    <tr>\n",
              "      <th>max</th>\n",
              "      <td>381109.000000</td>\n",
              "      <td>85.000000</td>\n",
              "      <td>1.000000</td>\n",
              "      <td>52.000000</td>\n",
              "      <td>1.000000</td>\n",
              "      <td>540165.000000</td>\n",
              "      <td>163.000000</td>\n",
              "      <td>299.000000</td>\n",
              "      <td>1.000000</td>\n",
              "    </tr>\n",
              "  </tbody>\n",
              "</table>\n",
              "</div>\n",
              "      <button class=\"colab-df-convert\" onclick=\"convertToInteractive('df-eb34d8d5-b243-4126-b696-0f2b14fce6ad')\"\n",
              "              title=\"Convert this dataframe to an interactive table.\"\n",
              "              style=\"display:none;\">\n",
              "        \n",
              "  <svg xmlns=\"http://www.w3.org/2000/svg\" height=\"24px\"viewBox=\"0 0 24 24\"\n",
              "       width=\"24px\">\n",
              "    <path d=\"M0 0h24v24H0V0z\" fill=\"none\"/>\n",
              "    <path d=\"M18.56 5.44l.94 2.06.94-2.06 2.06-.94-2.06-.94-.94-2.06-.94 2.06-2.06.94zm-11 1L8.5 8.5l.94-2.06 2.06-.94-2.06-.94L8.5 2.5l-.94 2.06-2.06.94zm10 10l.94 2.06.94-2.06 2.06-.94-2.06-.94-.94-2.06-.94 2.06-2.06.94z\"/><path d=\"M17.41 7.96l-1.37-1.37c-.4-.4-.92-.59-1.43-.59-.52 0-1.04.2-1.43.59L10.3 9.45l-7.72 7.72c-.78.78-.78 2.05 0 2.83L4 21.41c.39.39.9.59 1.41.59.51 0 1.02-.2 1.41-.59l7.78-7.78 2.81-2.81c.8-.78.8-2.07 0-2.86zM5.41 20L4 18.59l7.72-7.72 1.47 1.35L5.41 20z\"/>\n",
              "  </svg>\n",
              "      </button>\n",
              "      \n",
              "  <style>\n",
              "    .colab-df-container {\n",
              "      display:flex;\n",
              "      flex-wrap:wrap;\n",
              "      gap: 12px;\n",
              "    }\n",
              "\n",
              "    .colab-df-convert {\n",
              "      background-color: #E8F0FE;\n",
              "      border: none;\n",
              "      border-radius: 50%;\n",
              "      cursor: pointer;\n",
              "      display: none;\n",
              "      fill: #1967D2;\n",
              "      height: 32px;\n",
              "      padding: 0 0 0 0;\n",
              "      width: 32px;\n",
              "    }\n",
              "\n",
              "    .colab-df-convert:hover {\n",
              "      background-color: #E2EBFA;\n",
              "      box-shadow: 0px 1px 2px rgba(60, 64, 67, 0.3), 0px 1px 3px 1px rgba(60, 64, 67, 0.15);\n",
              "      fill: #174EA6;\n",
              "    }\n",
              "\n",
              "    [theme=dark] .colab-df-convert {\n",
              "      background-color: #3B4455;\n",
              "      fill: #D2E3FC;\n",
              "    }\n",
              "\n",
              "    [theme=dark] .colab-df-convert:hover {\n",
              "      background-color: #434B5C;\n",
              "      box-shadow: 0px 1px 3px 1px rgba(0, 0, 0, 0.15);\n",
              "      filter: drop-shadow(0px 1px 2px rgba(0, 0, 0, 0.3));\n",
              "      fill: #FFFFFF;\n",
              "    }\n",
              "  </style>\n",
              "\n",
              "      <script>\n",
              "        const buttonEl =\n",
              "          document.querySelector('#df-eb34d8d5-b243-4126-b696-0f2b14fce6ad button.colab-df-convert');\n",
              "        buttonEl.style.display =\n",
              "          google.colab.kernel.accessAllowed ? 'block' : 'none';\n",
              "\n",
              "        async function convertToInteractive(key) {\n",
              "          const element = document.querySelector('#df-eb34d8d5-b243-4126-b696-0f2b14fce6ad');\n",
              "          const dataTable =\n",
              "            await google.colab.kernel.invokeFunction('convertToInteractive',\n",
              "                                                     [key], {});\n",
              "          if (!dataTable) return;\n",
              "\n",
              "          const docLinkHtml = 'Like what you see? Visit the ' +\n",
              "            '<a target=\"_blank\" href=https://colab.research.google.com/notebooks/data_table.ipynb>data table notebook</a>'\n",
              "            + ' to learn more about interactive tables.';\n",
              "          element.innerHTML = '';\n",
              "          dataTable['output_type'] = 'display_data';\n",
              "          await google.colab.output.renderOutput(dataTable, element);\n",
              "          const docLink = document.createElement('div');\n",
              "          docLink.innerHTML = docLinkHtml;\n",
              "          element.appendChild(docLink);\n",
              "        }\n",
              "      </script>\n",
              "    </div>\n",
              "  </div>\n",
              "  "
            ]
          },
          "metadata": {},
          "execution_count": 9
        }
      ]
    },
    {
      "cell_type": "code",
      "source": [
        "# Checking unique values of each features\n",
        "Health_df.nunique()"
      ],
      "metadata": {
        "colab": {
          "base_uri": "https://localhost:8080/"
        },
        "outputId": "1bd763fb-753c-4a2c-be34-5e6c8fc0ff3e",
        "id": "L__ozaHp7e_u"
      },
      "execution_count": null,
      "outputs": [
        {
          "output_type": "execute_result",
          "data": {
            "text/plain": [
              "id                      381109\n",
              "Gender                       2\n",
              "Age                         66\n",
              "Driving_License              2\n",
              "Region_Code                 53\n",
              "Previously_Insured           2\n",
              "Vehicle_Age                  3\n",
              "Vehicle_Damage               2\n",
              "Annual_Premium           48838\n",
              "Policy_Sales_Channel       155\n",
              "Vintage                    290\n",
              "Response                     2\n",
              "dtype: int64"
            ]
          },
          "metadata": {},
          "execution_count": 10
        }
      ]
    },
    {
      "cell_type": "code",
      "source": [
        "# Checking for duplicates\n",
        "Health_df.duplicated().sum()"
      ],
      "metadata": {
        "colab": {
          "base_uri": "https://localhost:8080/"
        },
        "outputId": "d53bb851-1b2e-4d9f-be8b-06752e672703",
        "id": "wnOZ1rYH7e_u"
      },
      "execution_count": null,
      "outputs": [
        {
          "output_type": "execute_result",
          "data": {
            "text/plain": [
              "0"
            ]
          },
          "metadata": {},
          "execution_count": 11
        }
      ]
    },
    {
      "cell_type": "markdown",
      "source": [
        "**No duplicate value present in our dataset**"
      ],
      "metadata": {
        "id": "J3s2SbQNISqB"
      }
    },
    {
      "cell_type": "markdown",
      "source": [
        "# **Exploratory Data Analysis**"
      ],
      "metadata": {
        "id": "vyBQ4Gncsvtj"
      }
    },
    {
      "cell_type": "markdown",
      "source": [
        "**Exploratory Data Analysis refers to the critical process of performing initial investigations on data so as to discover patterns,to spot anomalies,to test hypothesis and to check assumptions with the help of summary statistics and graphical representations**"
      ],
      "metadata": {
        "id": "GVUa2V4_szXD"
      }
    },
    {
      "cell_type": "code",
      "source": [
        "#Here, in our target variable(Response) 0 means the customer was not intrested in vechicle insurance and 1 means the customer was intrested in vehicle insurance. \n",
        "\n",
        "fig, axes = plt.subplots(ncols=2,figsize=(20,5))\n",
        "sns.countplot(Health_df['Response'], data=Health_df,ax = axes[0],palette = 'BuGn_r')\n",
        "plt.title('Not-Interested vs Interested Policyholders', fontsize=13) #title for the countplot\n",
        "colors = ['#4F6272', '#B7C3F3', '#DD7596', '#8EB897']\n",
        "Health_df['Response'].value_counts().plot.pie( autopct = '%.1f%%',ax = axes[1],explode = [0.02,0.02],colors = colors, figsize=(15,7))\n",
        "plt.show()"
      ],
      "metadata": {
        "id": "48WOuN8Jtu9J",
        "colab": {
          "base_uri": "https://localhost:8080/",
          "height": 458
        },
        "outputId": "12de4b25-ba0b-4e64-a4f5-7cf666e28ea2"
      },
      "execution_count": null,
      "outputs": [
        {
          "output_type": "display_data",
          "data": {
            "text/plain": [
              "<Figure size 1080x504 with 2 Axes>"
            ],
            "image/png": "[encoded data removed]"
          },
          "metadata": {
            "needs_background": "light"
          }
        }
      ]
    },
    {
      "cell_type": "markdown",
      "source": [
        "**The given dataset is an imbalance problem as the Response variable with the value 1 is significantly lower than the value zero** \n"
      ],
      "metadata": {
        "id": "ry5TCqNQyxbl"
      }
    },
    {
      "cell_type": "markdown",
      "source": [
        "## **Gender**"
      ],
      "metadata": {
        "id": "EbpmPuEy4LKR"
      }
    },
    {
      "cell_type": "code",
      "source": [
        "# # Analyzing Gender feature and it's effect on response feature\n",
        "fig, axes = plt.subplots(ncols=2,figsize=(20,5))\n",
        "colors = ['#4F6272', '#B7C3F3', '#DD7596', '#8EB897']\n",
        "Health_df['Gender'].value_counts().plot.pie( autopct = '%.1f%%',ax = axes[0],explode = [0.02,0.02],colors=colors, figsize=(15,7))\n",
        "ax = sns.countplot(data = Health_df , x = 'Response', ax = axes[1],palette = 'BuGn_r', hue = 'Gender',)"
      ],
      "metadata": {
        "id": "W5ZtaZKJ902c",
        "colab": {
          "base_uri": "https://localhost:8080/",
          "height": 442
        },
        "outputId": "d9bf429f-14d6-4f95-f3bb-97aac2b46520"
      },
      "execution_count": null,
      "outputs": [
        {
          "output_type": "display_data",
          "data": {
            "text/plain": [
              "<Figure size 1080x504 with 2 Axes>"
            ],
            "image/png": "[encoded data removed]"
          },
          "metadata": {
            "needs_background": "light"
          }
        }
      ]
    },
    {
      "cell_type": "markdown",
      "source": [
        "**Male category is somewhat more noteworthy than that of female and chances of purchasing the insurance is likewise minimal high**"
      ],
      "metadata": {
        "id": "GPdbGWdEKJYM"
      }
    },
    {
      "cell_type": "markdown",
      "source": [
        "## **Age**"
      ],
      "metadata": {
        "id": "MUYxg0DD4QEv"
      }
    },
    {
      "cell_type": "code",
      "source": [
        "# Analysis of Age distribution\n",
        "plt.figure(figsize=(25,7))\n",
        "sns.countplot(Health_df['Age'],palette = 'RdYlBu')\n",
        "plt.title(\"AGE-DISTRIBUTION\")\n",
        "plt.show()"
      ],
      "metadata": {
        "colab": {
          "base_uri": "https://localhost:8080/",
          "height": 458
        },
        "id": "2JIhk8BEq0Wz",
        "outputId": "55ccd0b2-d2bf-4365-cde9-8c87861ae421"
      },
      "execution_count": null,
      "outputs": [
        {
          "output_type": "display_data",
          "data": {
            "text/plain": [
              "<Figure size 1800x504 with 1 Axes>"
            ],
            "image/png": "[encoded data removed]"
          },
          "metadata": {
            "needs_background": "light"
          }
        }
      ]
    },
    {
      "cell_type": "code",
      "source": [
        "# Analysis of Age & Response\n",
        "plt.figure(figsize=(25,7))\n",
        "ax = sns.countplot(data = Health_df , x = 'Age', palette = 'BuPu', hue = 'Response',)"
      ],
      "metadata": {
        "colab": {
          "base_uri": "https://localhost:8080/",
          "height": 442
        },
        "id": "YX-QvXCumEnC",
        "outputId": "c369f97c-fc7e-4169-ef7e-57b34ef514cd"
      },
      "execution_count": null,
      "outputs": [
        {
          "output_type": "display_data",
          "data": {
            "text/plain": [
              "<Figure size 1800x504 with 1 Axes>"
            ],
            "image/png": "[encoded data removed]"
          },
          "metadata": {
            "needs_background": "light"
          }
        }
      ]
    },
    {
      "cell_type": "markdown",
      "source": [
        "\n",
        "\n",
        "\n",
        "*   Youngsters under 30 are not intrigued by vehicle insurance. Reasons could be absence of involvement, less awareness about insurance and they may not have costly vehicles yet.\n",
        "\n",
        "*    People of age range between 30-60 years are more likely to be interested and willing to purchase\n",
        "\n",
        "\n",
        "\n"
      ],
      "metadata": {
        "id": "Q-7kt8MdLOfW"
      }
    },
    {
      "cell_type": "markdown",
      "source": [
        "## **Region code**"
      ],
      "metadata": {
        "id": "LQCBAHuu5aUh"
      }
    },
    {
      "cell_type": "code",
      "source": [
        "# Analyzing region feature \n",
        "plt.figure(figsize=(25,7))\n",
        "sns.countplot(Health_df['Region_Code'],palette = 'RdYlBu')\n",
        "plt.title(\"REGION-DISTRIBUTION\")\n",
        "plt.show()"
      ],
      "metadata": {
        "colab": {
          "base_uri": "https://localhost:8080/",
          "height": 459
        },
        "id": "tYdtxdUAnpb3",
        "outputId": "d9e0ac3a-d9c9-45a5-a1b9-2a9b02e3a411"
      },
      "execution_count": null,
      "outputs": [
        {
          "output_type": "display_data",
          "data": {
            "text/plain": [
              "<Figure size 1800x504 with 1 Axes>"
            ],
            "image/png": "[encoded data removed]"
          },
          "metadata": {
            "needs_background": "light"
          }
        }
      ]
    },
    {
      "cell_type": "code",
      "source": [
        "# Analyzing region feature and it's effect on response feature\n",
        "plt.figure(figsize=(25,7))\n",
        "ax = sns.countplot(data = Health_df , x = 'Region_Code', palette = 'BuPu', hue = 'Response',)"
      ],
      "metadata": {
        "colab": {
          "base_uri": "https://localhost:8080/",
          "height": 443
        },
        "id": "eMWuc6E6nHd1",
        "outputId": "1e5eebeb-2672-4d71-fbf5-9e3d45278cfa"
      },
      "execution_count": null,
      "outputs": [
        {
          "output_type": "display_data",
          "data": {
            "text/plain": [
              "<Figure size 1800x504 with 1 Axes>"
            ],
            "image/png": "[encoded data removed]"
          },
          "metadata": {
            "needs_background": "light"
          }
        }
      ]
    },
    {
      "cell_type": "markdown",
      "source": [
        "**Area code 28 has the most health insurance clients and region code 51 has the fewest**"
      ],
      "metadata": {
        "id": "vr3_fGAYOl3S"
      }
    },
    {
      "cell_type": "markdown",
      "source": [
        "## **Driving_License**"
      ],
      "metadata": {
        "id": "8WQlzdB58ruk"
      }
    },
    {
      "cell_type": "code",
      "source": [
        "# Analyzing Driving_License feature and it's effect on response feature\n",
        "fig, axes = plt.subplots(ncols=2,figsize=(20,5))\n",
        "colors = ['#4F6272', '#B7C3F3']\n",
        "Health_df['Driving_License'].value_counts().plot.pie( autopct = '%.1f%%',ax = axes[0],explode = [0.02,0.02],colors=colors, figsize=(15,7))\n",
        "ax = sns.countplot(data = Health_df , x = 'Response', ax = axes[1],palette = 'BuGn_r', hue = 'Driving_License',)"
      ],
      "metadata": {
        "colab": {
          "base_uri": "https://localhost:8080/",
          "height": 446
        },
        "id": "2DtbIXwxvHEH",
        "outputId": "192130b9-5c01-4c7a-8ec5-28ec88128c72"
      },
      "execution_count": null,
      "outputs": [
        {
          "output_type": "display_data",
          "data": {
            "text/plain": [
              "<Figure size 1080x504 with 2 Axes>"
            ],
            "image/png": "[encoded data removed]"
          },
          "metadata": {
            "needs_background": "light"
          }
        }
      ]
    },
    {
      "cell_type": "markdown",
      "source": [
        "\n",
        "*  **We can see that if there is a license holder than it will be more likely to buy an insurance.**\n",
        "*  **Also there is very less count of People who donot have driving license.**\n",
        "\n"
      ],
      "metadata": {
        "id": "Uyw8mGGTNF8M"
      }
    },
    {
      "cell_type": "markdown",
      "source": [
        "## **Previously_Insured**"
      ],
      "metadata": {
        "id": "IDbiCi7C9pNc"
      }
    },
    {
      "cell_type": "code",
      "source": [
        "# Analyzing Previously_Insured feature and it's effect on response feature\n",
        "fig, axes = plt.subplots(ncols=2,figsize=(20,5))\n",
        "colors = ['#4F6272', '#B7C3F3', '#DD7596', '#8EB897']\n",
        "Health_df['Previously_Insured'].value_counts().plot.pie( autopct = '%.1f%%',ax = axes[0],explode = [0.02,0.02],colors=colors, figsize=(15,7))\n",
        "ax = sns.countplot(data = Health_df , x = 'Response', ax = axes[1],palette = 'BuGn_r', hue = 'Previously_Insured',)"
      ],
      "metadata": {
        "colab": {
          "base_uri": "https://localhost:8080/",
          "height": 442
        },
        "id": "Pm2d3BIiwNzU",
        "outputId": "3bddb31e-568b-4a84-a13f-3b5b33afbdbd"
      },
      "execution_count": null,
      "outputs": [
        {
          "output_type": "display_data",
          "data": {
            "text/plain": [
              "<Figure size 1080x504 with 2 Axes>"
            ],
            "image/png": "[encoded data removed]"
          },
          "metadata": {
            "needs_background": "light"
          }
        }
      ]
    },
    {
      "cell_type": "markdown",
      "source": [
        "**More than 50% of people doesn't have insurance.**"
      ],
      "metadata": {
        "id": "KL_XlrfOPDDo"
      }
    },
    {
      "cell_type": "markdown",
      "source": [
        "## **Vehicle Age**"
      ],
      "metadata": {
        "id": "wCAHj7_N7HqD"
      }
    },
    {
      "cell_type": "code",
      "source": [
        "# Analyzing Vehicle Age feature and it's effect on response feature\n",
        "fig, axes = plt.subplots(ncols=2,figsize=(20,5))\n",
        "colors = ['#4F6272', '#B7C3F3', '#DD7596', '#8EB897']\n",
        "Health_df['Vehicle_Age'].value_counts().plot.pie( autopct = '%.1f%%',ax = axes[0],explode = [0.02,0.02,0.02],colors=colors, figsize=(15,7))\n",
        "ax = sns.countplot(data = Health_df , x = 'Response', ax = axes[1],palette = 'BuGn_r', hue = 'Vehicle_Age',)"
      ],
      "metadata": {
        "colab": {
          "base_uri": "https://localhost:8080/",
          "height": 442
        },
        "id": "aoug-F86xWJ9",
        "outputId": "55dc3728-1ac3-4f2b-868e-f00d8bf60ddf"
      },
      "execution_count": null,
      "outputs": [
        {
          "output_type": "display_data",
          "data": {
            "text/plain": [
              "<Figure size 1080x504 with 2 Axes>"
            ],
            "image/png": "[encoded data removed]"
          },
          "metadata": {
            "needs_background": "light"
          }
        }
      ]
    },
    {
      "cell_type": "markdown",
      "source": [
        "\n",
        "\n",
        "*   **Consumers with 1-2-year-old vehicles are more interested as compared to others.**\n",
        "*   **Consumers with less than 1 year old Vehicles have very less chance of buying Insurance**\n",
        "\n"
      ],
      "metadata": {
        "id": "HD5ZYDMRQDlu"
      }
    },
    {
      "cell_type": "markdown",
      "source": [
        "## **Vehicle_Damage**"
      ],
      "metadata": {
        "id": "ln8VH4h6-Nxy"
      }
    },
    {
      "cell_type": "code",
      "source": [
        "# Analyzing Vehicle_Damage feature and it's effect on response feature\n",
        "fig, axes = plt.subplots(ncols=2,figsize=(20,5))\n",
        "colors = ['#4F6272', '#B7C3F3', '#DD7596', '#8EB897']\n",
        "Health_df['Vehicle_Damage'].value_counts().plot.pie( autopct = '%.1f%%',ax = axes[0],explode = [0.02,0.02],colors=colors, figsize=(15,7))\n",
        "ax = sns.countplot(data = Health_df , x = 'Response', ax = axes[1],palette = 'BuGn_r', hue = 'Vehicle_Damage',)"
      ],
      "metadata": {
        "colab": {
          "base_uri": "https://localhost:8080/",
          "height": 442
        },
        "id": "GOdAl_QhyV-3",
        "outputId": "a2596815-20e6-4001-c304-c57dcd565b68"
      },
      "execution_count": null,
      "outputs": [
        {
          "output_type": "display_data",
          "data": {
            "text/plain": [
              "<Figure size 1080x504 with 2 Axes>"
            ],
            "image/png": "[encoded data removed]"
          },
          "metadata": {
            "needs_background": "light"
          }
        }
      ]
    },
    {
      "cell_type": "markdown",
      "source": [
        "**Half of all health insurance customers have had their car destroyed, while the other half have not**"
      ],
      "metadata": {
        "id": "tXbuqN57QgUS"
      }
    },
    {
      "cell_type": "markdown",
      "source": [
        "## **Annual_Premium**"
      ],
      "metadata": {
        "id": "ce9MYVbS-jlT"
      }
    },
    {
      "cell_type": "code",
      "source": [
        "# Analysis on Annual distribution along with response relation with annual premium\n",
        "\n",
        "# defining figures\n",
        "fig, axes = plt.subplots(2,1, figsize =( 25,12))\n",
        "\n",
        "# plotting distplot for annual premium\n",
        "sns.distplot( x= Health_df['Annual_Premium'], ax = axes[0],color= \"#bcbddc\",bins = 100)\n",
        "axes[0].set_title('Annual premium distribution')\n",
        "\n",
        "# plotting hist plot and response distribution \n",
        "sns.histplot( x= Health_df['Annual_Premium'], ax = axes[1], bins = 200,color=\"#bcbddc\", kde = True)\n",
        "sns.histplot( x= Health_df['Annual_Premium'][Health_df['Response'] == 1], ax = axes[1], bins = 200, color = '#756bb1', kde = True)\n",
        "axes[1].set_title('Annual premium vs response')"
      ],
      "metadata": {
        "id": "uO2bLy7lCd7Y",
        "colab": {
          "base_uri": "https://localhost:8080/",
          "height": 749
        },
        "outputId": "4b6cefbc-265e-459f-82ab-619b1ce96b4f"
      },
      "execution_count": null,
      "outputs": [
        {
          "output_type": "execute_result",
          "data": {
            "text/plain": [
              "Text(0.5, 1.0, 'Annual premium vs response')"
            ]
          },
          "metadata": {},
          "execution_count": 22
        },
        {
          "output_type": "display_data",
          "data": {
            "text/plain": [
              "<Figure size 1800x864 with 2 Axes>"
            ],
            "image/png": "[encoded data removed]"
          },
          "metadata": {
            "needs_background": "light"
          }
        }
      ]
    },
    {
      "cell_type": "markdown",
      "source": [
        "**Its observed from the distribution plot, that the annual premimum feature is right skewed**"
      ],
      "metadata": {
        "id": "wGEebciBQr3g"
      }
    },
    {
      "cell_type": "markdown",
      "source": [
        "## **Vintage**"
      ],
      "metadata": {
        "id": "18sxA41NFujc"
      }
    },
    {
      "cell_type": "code",
      "source": [
        "# Plotting the distplot for vintange \n",
        "fig= plt.subplots(figsize = (10,6))\n",
        "sns.distplot( x= Health_df['Vintage'], color= '#2E8B57')"
      ],
      "metadata": {
        "id": "9ccRd5gTFauM",
        "colab": {
          "base_uri": "https://localhost:8080/",
          "height": 392
        },
        "outputId": "ebfb8804-92ee-4e43-fd1c-6d9f34fb7cfc"
      },
      "execution_count": null,
      "outputs": [
        {
          "output_type": "execute_result",
          "data": {
            "text/plain": [
              "<matplotlib.axes._subplots.AxesSubplot at 0x7f8fcd1dbd90>"
            ]
          },
          "metadata": {},
          "execution_count": 23
        },
        {
          "output_type": "display_data",
          "data": {
            "text/plain": [
              "<Figure size 720x432 with 1 Axes>"
            ],
            "image/png": "[encoded data removed]"
          },
          "metadata": {
            "needs_background": "light"
          }
        }
      ]
    },
    {
      "cell_type": "code",
      "source": [
        "# Analyzing Vintage feature and it's effect on response feature\n",
        "fig= plt.subplots(figsize = (20,6))\n",
        "sns.histplot( x= Health_df['Vintage'],color=\"#bcbddc\", kde = True)\n",
        "sns.histplot( x= Health_df['Vintage'][Health_df['Response'] == 1], color = '#756bb1', kde = True)\n",
        "axes[1].set_title(' Vintage vs response')\n"
      ],
      "metadata": {
        "id": "ie00-1-gGDLu",
        "colab": {
          "base_uri": "https://localhost:8080/",
          "height": 406
        },
        "outputId": "05149b5c-a4af-495b-bb29-309c90d1bc36"
      },
      "execution_count": null,
      "outputs": [
        {
          "output_type": "execute_result",
          "data": {
            "text/plain": [
              "Text(0.5, 1.0, ' Vintage vs response')"
            ]
          },
          "metadata": {},
          "execution_count": 24
        },
        {
          "output_type": "display_data",
          "data": {
            "text/plain": [
              "<Figure size 1440x432 with 1 Axes>"
            ],
            "image/png": "[encoded data removed]"
          },
          "metadata": {
            "needs_background": "light"
          }
        }
      ]
    },
    {
      "cell_type": "markdown",
      "source": [
        "# **Multivariate Analysis** "
      ],
      "metadata": {
        "id": "cZXd7KNeHUmp"
      }
    },
    {
      "cell_type": "code",
      "source": [
        "# Plotting heatmap to find correlation\n",
        "plt.figure(figsize=(18,9))\n",
        "ax = sns.heatmap(Health_df.corr(),annot=True)"
      ],
      "metadata": {
        "id": "wLPJYE9uHh7q",
        "colab": {
          "base_uri": "https://localhost:8080/",
          "height": 638
        },
        "outputId": "14286fd9-54e0-490a-da04-0f5e316cbd23"
      },
      "execution_count": null,
      "outputs": [
        {
          "output_type": "display_data",
          "data": {
            "text/plain": [
              "<Figure size 1296x648 with 2 Axes>"
            ],
            "image/png": "[encoded data removed]"
          },
          "metadata": {
            "needs_background": "light"
          }
        }
      ]
    },
    {
      "cell_type": "markdown",
      "source": [
        "**There is no such strong correlation among features as we can see from the above heatmap.**"
      ],
      "metadata": {
        "id": "o4k6Tx6ICBwu"
      }
    },
    {
      "cell_type": "markdown",
      "source": [
        "# **Checking for Outliers**"
      ],
      "metadata": {
        "id": "gl16-4XGJPvQ"
      }
    },
    {
      "cell_type": "code",
      "source": [
        "#Checking for outliers \n",
        "int_df = Health_df[list(Health_df.describe())]\n",
        "\n",
        "for column in int_df:\n",
        "    plt.figure(figsize=( 5,2))\n",
        "    sns.boxplot(data=int_df,x=column)\n",
        "    "
      ],
      "metadata": {
        "id": "aOv6Il9yuxFE",
        "colab": {
          "base_uri": "https://localhost:8080/",
          "height": 1000
        },
        "outputId": "2ee3a58e-d8a2-4102-ea06-012a5fc13bde"
      },
      "execution_count": null,
      "outputs": [
        {
          "output_type": "display_data",
          "data": {
            "text/plain": [
              "<Figure size 360x144 with 1 Axes>"
            ],
            "image/png": "[encoded data removed]"
          },
          "metadata": {
            "needs_background": "light"
          }
        },
        {
          "output_type": "display_data",
          "data": {
            "text/plain": [
              "<Figure size 360x144 with 1 Axes>"
            ],
            "image/png": "[encoded data removed]"
          },
          "metadata": {
            "needs_background": "light"
          }
        },
        {
          "output_type": "display_data",
          "data": {
            "text/plain": [
              "<Figure size 360x144 with 1 Axes>"
            ],
            "image/png": "[encoded data removed]"
          },
          "metadata": {
            "needs_background": "light"
          }
        },
        {
          "output_type": "display_data",
          "data": {
            "text/plain": [
              "<Figure size 360x144 with 1 Axes>"
            ],
            "image/png": "[encoded data removed]"
          },
          "metadata": {
            "needs_background": "light"
          }
        },
        {
          "output_type": "display_data",
          "data": {
            "text/plain": [
              "<Figure size 360x144 with 1 Axes>"
            ],
            "image/png": "[encoded data removed]"
          },
          "metadata": {
            "needs_background": "light"
          }
        },
        {
          "output_type": "display_data",
          "data": {
            "text/plain": [
              "<Figure size 360x144 with 1 Axes>"
            ],
            "image/png": "[encoded data removed]"
          },
          "metadata": {
            "needs_background": "light"
          }
        },
        {
          "output_type": "display_data",
          "data": {
            "text/plain": [
              "<Figure size 360x144 with 1 Axes>"
            ],
            "image/png": "[encoded data removed]"
          },
          "metadata": {
            "needs_background": "light"
          }
        },
        {
          "output_type": "display_data",
          "data": {
            "text/plain": [
              "<Figure size 360x144 with 1 Axes>"
            ],
            "image/png": "[encoded data removed]"
          },
          "metadata": {
            "needs_background": "light"
          }
        },
        {
          "output_type": "display_data",
          "data": {
            "text/plain": [
              "<Figure size 360x144 with 1 Axes>"
            ],
            "image/png": "[encoded data removed]"
          },
          "metadata": {
            "needs_background": "light"
          }
        }
      ]
    },
    {
      "cell_type": "markdown",
      "source": [
        "**Annual_premium feature contains outliers so we will tranfrom Annual_premium to normal distribution**\n"
      ],
      "metadata": {
        "id": "2Zyj-1rUAj9m"
      }
    },
    {
      "cell_type": "code",
      "source": [
        "features = Health_df[['Annual_Premium']]"
      ],
      "metadata": {
        "id": "645OwIvtP3wt"
      },
      "execution_count": null,
      "outputs": []
    },
    {
      "cell_type": "code",
      "source": [
        "#instatiate \n",
        "from sklearn.preprocessing import PowerTransformer\n",
        "\n",
        "pt = PowerTransformer(method='yeo-johnson', standardize=True,) \n",
        "\n",
        "#Fitting data to the powertransformer\n",
        "skl_yeojohnson = pt.fit(features)\n",
        "\n",
        "#Lets get the Lambdas that were found\n",
        "print (skl_yeojohnson.lambdas_)\n",
        "\n",
        "calc_lambdas = skl_yeojohnson.lambdas_\n",
        "\n",
        "#Transform the data \n",
        "skl_yeojohnson = pt.transform(features)\n",
        "\n",
        "#Pass the transformed data into a new dataframe \n",
        "Health_df['Annual_Premium'] = pd.DataFrame(data=skl_yeojohnson, columns=['Annual_Premium'])\n",
        "\n",
        "Health_df['Annual_Premium']"
      ],
      "metadata": {
        "id": "vJ9SE1x0PKRt",
        "colab": {
          "base_uri": "https://localhost:8080/"
        },
        "outputId": "98018251-e429-4315-e516-bffc1befbaf2"
      },
      "execution_count": null,
      "outputs": [
        {
          "output_type": "stream",
          "name": "stdout",
          "text": [
            "[0.76692882]\n"
          ]
        },
        {
          "output_type": "execute_result",
          "data": {
            "text/plain": [
              "0         0.612207\n",
              "1         0.243028\n",
              "2         0.498644\n",
              "3        -0.030214\n",
              "4        -0.094107\n",
              "            ...   \n",
              "381104    0.057079\n",
              "381105    0.589296\n",
              "381106    0.328903\n",
              "381107    0.827191\n",
              "381108    0.681065\n",
              "Name: Annual_Premium, Length: 381109, dtype: float64"
            ]
          },
          "metadata": {},
          "execution_count": 28
        }
      ]
    },
    {
      "cell_type": "code",
      "source": [
        "fig= plt.subplots(figsize = (10,6))\n",
        "sns.distplot( x= Health_df['Annual_Premium'], color= 'g')"
      ],
      "metadata": {
        "id": "srJaodmKSmvM",
        "colab": {
          "base_uri": "https://localhost:8080/",
          "height": 392
        },
        "outputId": "8c80ed9c-36e2-48ed-a153-8d14c0124889"
      },
      "execution_count": null,
      "outputs": [
        {
          "output_type": "execute_result",
          "data": {
            "text/plain": [
              "<matplotlib.axes._subplots.AxesSubplot at 0x7f8fce1c2ed0>"
            ]
          },
          "metadata": {},
          "execution_count": 29
        },
        {
          "output_type": "display_data",
          "data": {
            "text/plain": [
              "<Figure size 720x432 with 1 Axes>"
            ],
            "image/png": "[encoded data removed]"
          },
          "metadata": {
            "needs_background": "light"
          }
        }
      ]
    },
    {
      "cell_type": "markdown",
      "source": [
        "**We will drop id column as it has not attribute**"
      ],
      "metadata": {
        "id": "qmHCVbLP9pk9"
      }
    },
    {
      "cell_type": "code",
      "source": [
        "# Droping id column\n",
        "Health_df.drop(\"id\",inplace=True,axis=1)"
      ],
      "metadata": {
        "id": "pJ27dQDCm_6W"
      },
      "execution_count": null,
      "outputs": []
    },
    {
      "cell_type": "markdown",
      "source": [
        "# **Encoding** "
      ],
      "metadata": {
        "id": "i_PNESpmiaGv"
      }
    },
    {
      "cell_type": "code",
      "source": [
        "#encoding numerical columns to categorcial \n",
        "#we will use both label as well as one hot encoding for transformation of data type\n",
        "le = LabelEncoder()\n",
        "ohe = OneHotEncoder()\n",
        "\n",
        "#mapping\n",
        "Health_df[\"Vehicle_Age\"]=Health_df[\"Vehicle_Age\"].map({\"> 2 Years\":2,\"1-2 Year\":1,\"< 1 Year\":0})\n",
        "\n",
        "\n",
        "#categorical to numerical\n",
        "Health_df['Gender'] = ohe.fit_transform(Health_df[[\"Gender\"]]).toarray()\n",
        "Health_df['Vehicle_Age'] = le.fit_transform(Health_df[['Vehicle_Age']])\n",
        "Health_df['Vehicle_Damage'] = le.fit_transform(Health_df[['Vehicle_Damage']])"
      ],
      "metadata": {
        "id": "yO5chEOFLYWX"
      },
      "execution_count": null,
      "outputs": []
    },
    {
      "cell_type": "code",
      "source": [
        "# Showing first 5 rows of our dataframe\n",
        "Health_df.head()"
      ],
      "metadata": {
        "id": "oAx9ciHSkO31",
        "colab": {
          "base_uri": "https://localhost:8080/",
          "height": 206
        },
        "outputId": "06e78f41-9453-4917-e406-28579457b90c"
      },
      "execution_count": null,
      "outputs": [
        {
          "output_type": "execute_result",
          "data": {
            "text/plain": [
              "   Gender  Age  Driving_License  Region_Code  Previously_Insured  Vehicle_Age  \\\n",
              "0     0.0   44                1         28.0                   0            2   \n",
              "1     0.0   76                1          3.0                   0            1   \n",
              "2     0.0   47                1         28.0                   0            2   \n",
              "3     0.0   21                1         11.0                   1            0   \n",
              "4     1.0   29                1         41.0                   1            0   \n",
              "\n",
              "   Vehicle_Damage  Annual_Premium  Policy_Sales_Channel  Vintage  Response  \n",
              "0               1        0.612207                  26.0      217         1  \n",
              "1               0        0.243028                  26.0      183         0  \n",
              "2               1        0.498644                  26.0       27         1  \n",
              "3               0       -0.030214                 152.0      203         0  \n",
              "4               0       -0.094107                 152.0       39         0  "
            ],
            "text/html": [
              "\n",
              "  <div id=\"df-9f3cf60f-310f-46fb-bd1c-8aee2b465bd1\">\n",
              "    <div class=\"colab-df-container\">\n",
              "      <div>\n",
              "<style scoped>\n",
              "    .dataframe tbody tr th:only-of-type {\n",
              "        vertical-align: middle;\n",
              "    }\n",
              "\n",
              "    .dataframe tbody tr th {\n",
              "        vertical-align: top;\n",
              "    }\n",
              "\n",
              "    .dataframe thead th {\n",
              "        text-align: right;\n",
              "    }\n",
              "</style>\n",
              "<table border=\"1\" class=\"dataframe\">\n",
              "  <thead>\n",
              "    <tr style=\"text-align: right;\">\n",
              "      <th></th>\n",
              "      <th>Gender</th>\n",
              "      <th>Age</th>\n",
              "      <th>Driving_License</th>\n",
              "      <th>Region_Code</th>\n",
              "      <th>Previously_Insured</th>\n",
              "      <th>Vehicle_Age</th>\n",
              "      <th>Vehicle_Damage</th>\n",
              "      <th>Annual_Premium</th>\n",
              "      <th>Policy_Sales_Channel</th>\n",
              "      <th>Vintage</th>\n",
              "      <th>Response</th>\n",
              "    </tr>\n",
              "  </thead>\n",
              "  <tbody>\n",
              "    <tr>\n",
              "      <th>0</th>\n",
              "      <td>0.0</td>\n",
              "      <td>44</td>\n",
              "      <td>1</td>\n",
              "      <td>28.0</td>\n",
              "      <td>0</td>\n",
              "      <td>2</td>\n",
              "      <td>1</td>\n",
              "      <td>0.612207</td>\n",
              "      <td>26.0</td>\n",
              "      <td>217</td>\n",
              "      <td>1</td>\n",
              "    </tr>\n",
              "    <tr>\n",
              "      <th>1</th>\n",
              "      <td>0.0</td>\n",
              "      <td>76</td>\n",
              "      <td>1</td>\n",
              "      <td>3.0</td>\n",
              "      <td>0</td>\n",
              "      <td>1</td>\n",
              "      <td>0</td>\n",
              "      <td>0.243028</td>\n",
              "      <td>26.0</td>\n",
              "      <td>183</td>\n",
              "      <td>0</td>\n",
              "    </tr>\n",
              "    <tr>\n",
              "      <th>2</th>\n",
              "      <td>0.0</td>\n",
              "      <td>47</td>\n",
              "      <td>1</td>\n",
              "      <td>28.0</td>\n",
              "      <td>0</td>\n",
              "      <td>2</td>\n",
              "      <td>1</td>\n",
              "      <td>0.498644</td>\n",
              "      <td>26.0</td>\n",
              "      <td>27</td>\n",
              "      <td>1</td>\n",
              "    </tr>\n",
              "    <tr>\n",
              "      <th>3</th>\n",
              "      <td>0.0</td>\n",
              "      <td>21</td>\n",
              "      <td>1</td>\n",
              "      <td>11.0</td>\n",
              "      <td>1</td>\n",
              "      <td>0</td>\n",
              "      <td>0</td>\n",
              "      <td>-0.030214</td>\n",
              "      <td>152.0</td>\n",
              "      <td>203</td>\n",
              "      <td>0</td>\n",
              "    </tr>\n",
              "    <tr>\n",
              "      <th>4</th>\n",
              "      <td>1.0</td>\n",
              "      <td>29</td>\n",
              "      <td>1</td>\n",
              "      <td>41.0</td>\n",
              "      <td>1</td>\n",
              "      <td>0</td>\n",
              "      <td>0</td>\n",
              "      <td>-0.094107</td>\n",
              "      <td>152.0</td>\n",
              "      <td>39</td>\n",
              "      <td>0</td>\n",
              "    </tr>\n",
              "  </tbody>\n",
              "</table>\n",
              "</div>\n",
              "      <button class=\"colab-df-convert\" onclick=\"convertToInteractive('df-9f3cf60f-310f-46fb-bd1c-8aee2b465bd1')\"\n",
              "              title=\"Convert this dataframe to an interactive table.\"\n",
              "              style=\"display:none;\">\n",
              "        \n",
              "  <svg xmlns=\"http://www.w3.org/2000/svg\" height=\"24px\"viewBox=\"0 0 24 24\"\n",
              "       width=\"24px\">\n",
              "    <path d=\"M0 0h24v24H0V0z\" fill=\"none\"/>\n",
              "    <path d=\"M18.56 5.44l.94 2.06.94-2.06 2.06-.94-2.06-.94-.94-2.06-.94 2.06-2.06.94zm-11 1L8.5 8.5l.94-2.06 2.06-.94-2.06-.94L8.5 2.5l-.94 2.06-2.06.94zm10 10l.94 2.06.94-2.06 2.06-.94-2.06-.94-.94-2.06-.94 2.06-2.06.94z\"/><path d=\"M17.41 7.96l-1.37-1.37c-.4-.4-.92-.59-1.43-.59-.52 0-1.04.2-1.43.59L10.3 9.45l-7.72 7.72c-.78.78-.78 2.05 0 2.83L4 21.41c.39.39.9.59 1.41.59.51 0 1.02-.2 1.41-.59l7.78-7.78 2.81-2.81c.8-.78.8-2.07 0-2.86zM5.41 20L4 18.59l7.72-7.72 1.47 1.35L5.41 20z\"/>\n",
              "  </svg>\n",
              "      </button>\n",
              "      \n",
              "  <style>\n",
              "    .colab-df-container {\n",
              "      display:flex;\n",
              "      flex-wrap:wrap;\n",
              "      gap: 12px;\n",
              "    }\n",
              "\n",
              "    .colab-df-convert {\n",
              "      background-color: #E8F0FE;\n",
              "      border: none;\n",
              "      border-radius: 50%;\n",
              "      cursor: pointer;\n",
              "      display: none;\n",
              "      fill: #1967D2;\n",
              "      height: 32px;\n",
              "      padding: 0 0 0 0;\n",
              "      width: 32px;\n",
              "    }\n",
              "\n",
              "    .colab-df-convert:hover {\n",
              "      background-color: #E2EBFA;\n",
              "      box-shadow: 0px 1px 2px rgba(60, 64, 67, 0.3), 0px 1px 3px 1px rgba(60, 64, 67, 0.15);\n",
              "      fill: #174EA6;\n",
              "    }\n",
              "\n",
              "    [theme=dark] .colab-df-convert {\n",
              "      background-color: #3B4455;\n",
              "      fill: #D2E3FC;\n",
              "    }\n",
              "\n",
              "    [theme=dark] .colab-df-convert:hover {\n",
              "      background-color: #434B5C;\n",
              "      box-shadow: 0px 1px 3px 1px rgba(0, 0, 0, 0.15);\n",
              "      filter: drop-shadow(0px 1px 2px rgba(0, 0, 0, 0.3));\n",
              "      fill: #FFFFFF;\n",
              "    }\n",
              "  </style>\n",
              "\n",
              "      <script>\n",
              "        const buttonEl =\n",
              "          document.querySelector('#df-9f3cf60f-310f-46fb-bd1c-8aee2b465bd1 button.colab-df-convert');\n",
              "        buttonEl.style.display =\n",
              "          google.colab.kernel.accessAllowed ? 'block' : 'none';\n",
              "\n",
              "        async function convertToInteractive(key) {\n",
              "          const element = document.querySelector('#df-9f3cf60f-310f-46fb-bd1c-8aee2b465bd1');\n",
              "          const dataTable =\n",
              "            await google.colab.kernel.invokeFunction('convertToInteractive',\n",
              "                                                     [key], {});\n",
              "          if (!dataTable) return;\n",
              "\n",
              "          const docLinkHtml = 'Like what you see? Visit the ' +\n",
              "            '<a target=\"_blank\" href=https://colab.research.google.com/notebooks/data_table.ipynb>data table notebook</a>'\n",
              "            + ' to learn more about interactive tables.';\n",
              "          element.innerHTML = '';\n",
              "          dataTable['output_type'] = 'display_data';\n",
              "          await google.colab.output.renderOutput(dataTable, element);\n",
              "          const docLink = document.createElement('div');\n",
              "          docLink.innerHTML = docLinkHtml;\n",
              "          element.appendChild(docLink);\n",
              "        }\n",
              "      </script>\n",
              "    </div>\n",
              "  </div>\n",
              "  "
            ]
          },
          "metadata": {},
          "execution_count": 32
        }
      ]
    },
    {
      "cell_type": "code",
      "source": [
        "# Check for null value and datatype of each column/Feature\n",
        "Health_df.info()"
      ],
      "metadata": {
        "id": "buiqfgBakmdm",
        "colab": {
          "base_uri": "https://localhost:8080/"
        },
        "outputId": "2a699fd6-9938-412a-e3bd-07811d95563a"
      },
      "execution_count": null,
      "outputs": [
        {
          "output_type": "stream",
          "name": "stdout",
          "text": [
            "<class 'pandas.core.frame.DataFrame'>\n",
            "RangeIndex: 381109 entries, 0 to 381108\n",
            "Data columns (total 11 columns):\n",
            " #   Column                Non-Null Count   Dtype  \n",
            "---  ------                --------------   -----  \n",
            " 0   Gender                381109 non-null  float64\n",
            " 1   Age                   381109 non-null  int64  \n",
            " 2   Driving_License       381109 non-null  int64  \n",
            " 3   Region_Code           381109 non-null  float64\n",
            " 4   Previously_Insured    381109 non-null  int64  \n",
            " 5   Vehicle_Age           381109 non-null  int64  \n",
            " 6   Vehicle_Damage        381109 non-null  int64  \n",
            " 7   Annual_Premium        381109 non-null  float64\n",
            " 8   Policy_Sales_Channel  381109 non-null  float64\n",
            " 9   Vintage               381109 non-null  int64  \n",
            " 10  Response              381109 non-null  int64  \n",
            "dtypes: float64(4), int64(7)\n",
            "memory usage: 32.0 MB\n"
          ]
        }
      ]
    },
    {
      "cell_type": "markdown",
      "source": [
        "**We tried dropping driving_license and gender column, but as we dropped both we columns our recall f1 and precision value decreased. so we decided not to drop any column.**"
      ],
      "metadata": {
        "id": "sQPbj2PK8jay"
      }
    },
    {
      "cell_type": "markdown",
      "source": [
        "#**Feature selection**"
      ],
      "metadata": {
        "id": "VQ2rXP_N2kEp"
      }
    },
    {
      "cell_type": "code",
      "source": [
        "# Importing iportant libraries\n",
        "from statsmodels.stats.outliers_influence import variance_inflation_factor\n",
        "# Function to Calculate VIF\n",
        "def calc_vif(X):\n",
        "\n",
        "    # Calculating VIF\n",
        "    vif = pd.DataFrame()\n",
        "    vif[\"variables\"] = X.columns\n",
        "    vif[\"VIF\"] = [variance_inflation_factor(X.values, i) for i in range(X.shape[1])]\n",
        "\n",
        "    return(vif)\n",
        "    \n",
        "  "
      ],
      "metadata": {
        "id": "7uISBry-KgVu"
      },
      "execution_count": null,
      "outputs": []
    },
    {
      "cell_type": "code",
      "source": [
        "# VIF values for independent features\n",
        "calc_vif(Health_df[[i for i in Health_df.describe().columns if i not in ['Response']]])"
      ],
      "metadata": {
        "colab": {
          "base_uri": "https://localhost:8080/",
          "height": 363
        },
        "id": "bNCFTkhGKmCM",
        "outputId": "459ef406-e4ec-43a1-a92a-6916386cd942"
      },
      "execution_count": null,
      "outputs": [
        {
          "output_type": "execute_result",
          "data": {
            "text/plain": [
              "              variables        VIF\n",
              "0                Gender   1.900420\n",
              "1                   Age  18.381724\n",
              "2       Driving_License  40.268862\n",
              "3           Region_Code   4.957160\n",
              "4    Previously_Insured   5.724299\n",
              "5           Vehicle_Age   6.034246\n",
              "6        Vehicle_Damage   6.351624\n",
              "7        Annual_Premium   1.014392\n",
              "8  Policy_Sales_Channel   8.107759\n",
              "9               Vintage   4.373705"
            ],
            "text/html": [
              "\n",
              "  <div id=\"df-ce710f06-32ea-4fe5-bba7-783cbb1677d6\">\n",
              "    <div class=\"colab-df-container\">\n",
              "      <div>\n",
              "<style scoped>\n",
              "    .dataframe tbody tr th:only-of-type {\n",
              "        vertical-align: middle;\n",
              "    }\n",
              "\n",
              "    .dataframe tbody tr th {\n",
              "        vertical-align: top;\n",
              "    }\n",
              "\n",
              "    .dataframe thead th {\n",
              "        text-align: right;\n",
              "    }\n",
              "</style>\n",
              "<table border=\"1\" class=\"dataframe\">\n",
              "  <thead>\n",
              "    <tr style=\"text-align: right;\">\n",
              "      <th></th>\n",
              "      <th>variables</th>\n",
              "      <th>VIF</th>\n",
              "    </tr>\n",
              "  </thead>\n",
              "  <tbody>\n",
              "    <tr>\n",
              "      <th>0</th>\n",
              "      <td>Gender</td>\n",
              "      <td>1.900420</td>\n",
              "    </tr>\n",
              "    <tr>\n",
              "      <th>1</th>\n",
              "      <td>Age</td>\n",
              "      <td>18.381724</td>\n",
              "    </tr>\n",
              "    <tr>\n",
              "      <th>2</th>\n",
              "      <td>Driving_License</td>\n",
              "      <td>40.268862</td>\n",
              "    </tr>\n",
              "    <tr>\n",
              "      <th>3</th>\n",
              "      <td>Region_Code</td>\n",
              "      <td>4.957160</td>\n",
              "    </tr>\n",
              "    <tr>\n",
              "      <th>4</th>\n",
              "      <td>Previously_Insured</td>\n",
              "      <td>5.724299</td>\n",
              "    </tr>\n",
              "    <tr>\n",
              "      <th>5</th>\n",
              "      <td>Vehicle_Age</td>\n",
              "      <td>6.034246</td>\n",
              "    </tr>\n",
              "    <tr>\n",
              "      <th>6</th>\n",
              "      <td>Vehicle_Damage</td>\n",
              "      <td>6.351624</td>\n",
              "    </tr>\n",
              "    <tr>\n",
              "      <th>7</th>\n",
              "      <td>Annual_Premium</td>\n",
              "      <td>1.014392</td>\n",
              "    </tr>\n",
              "    <tr>\n",
              "      <th>8</th>\n",
              "      <td>Policy_Sales_Channel</td>\n",
              "      <td>8.107759</td>\n",
              "    </tr>\n",
              "    <tr>\n",
              "      <th>9</th>\n",
              "      <td>Vintage</td>\n",
              "      <td>4.373705</td>\n",
              "    </tr>\n",
              "  </tbody>\n",
              "</table>\n",
              "</div>\n",
              "      <button class=\"colab-df-convert\" onclick=\"convertToInteractive('df-ce710f06-32ea-4fe5-bba7-783cbb1677d6')\"\n",
              "              title=\"Convert this dataframe to an interactive table.\"\n",
              "              style=\"display:none;\">\n",
              "        \n",
              "  <svg xmlns=\"http://www.w3.org/2000/svg\" height=\"24px\"viewBox=\"0 0 24 24\"\n",
              "       width=\"24px\">\n",
              "    <path d=\"M0 0h24v24H0V0z\" fill=\"none\"/>\n",
              "    <path d=\"M18.56 5.44l.94 2.06.94-2.06 2.06-.94-2.06-.94-.94-2.06-.94 2.06-2.06.94zm-11 1L8.5 8.5l.94-2.06 2.06-.94-2.06-.94L8.5 2.5l-.94 2.06-2.06.94zm10 10l.94 2.06.94-2.06 2.06-.94-2.06-.94-.94-2.06-.94 2.06-2.06.94z\"/><path d=\"M17.41 7.96l-1.37-1.37c-.4-.4-.92-.59-1.43-.59-.52 0-1.04.2-1.43.59L10.3 9.45l-7.72 7.72c-.78.78-.78 2.05 0 2.83L4 21.41c.39.39.9.59 1.41.59.51 0 1.02-.2 1.41-.59l7.78-7.78 2.81-2.81c.8-.78.8-2.07 0-2.86zM5.41 20L4 18.59l7.72-7.72 1.47 1.35L5.41 20z\"/>\n",
              "  </svg>\n",
              "      </button>\n",
              "      \n",
              "  <style>\n",
              "    .colab-df-container {\n",
              "      display:flex;\n",
              "      flex-wrap:wrap;\n",
              "      gap: 12px;\n",
              "    }\n",
              "\n",
              "    .colab-df-convert {\n",
              "      background-color: #E8F0FE;\n",
              "      border: none;\n",
              "      border-radius: 50%;\n",
              "      cursor: pointer;\n",
              "      display: none;\n",
              "      fill: #1967D2;\n",
              "      height: 32px;\n",
              "      padding: 0 0 0 0;\n",
              "      width: 32px;\n",
              "    }\n",
              "\n",
              "    .colab-df-convert:hover {\n",
              "      background-color: #E2EBFA;\n",
              "      box-shadow: 0px 1px 2px rgba(60, 64, 67, 0.3), 0px 1px 3px 1px rgba(60, 64, 67, 0.15);\n",
              "      fill: #174EA6;\n",
              "    }\n",
              "\n",
              "    [theme=dark] .colab-df-convert {\n",
              "      background-color: #3B4455;\n",
              "      fill: #D2E3FC;\n",
              "    }\n",
              "\n",
              "    [theme=dark] .colab-df-convert:hover {\n",
              "      background-color: #434B5C;\n",
              "      box-shadow: 0px 1px 3px 1px rgba(0, 0, 0, 0.15);\n",
              "      filter: drop-shadow(0px 1px 2px rgba(0, 0, 0, 0.3));\n",
              "      fill: #FFFFFF;\n",
              "    }\n",
              "  </style>\n",
              "\n",
              "      <script>\n",
              "        const buttonEl =\n",
              "          document.querySelector('#df-ce710f06-32ea-4fe5-bba7-783cbb1677d6 button.colab-df-convert');\n",
              "        buttonEl.style.display =\n",
              "          google.colab.kernel.accessAllowed ? 'block' : 'none';\n",
              "\n",
              "        async function convertToInteractive(key) {\n",
              "          const element = document.querySelector('#df-ce710f06-32ea-4fe5-bba7-783cbb1677d6');\n",
              "          const dataTable =\n",
              "            await google.colab.kernel.invokeFunction('convertToInteractive',\n",
              "                                                     [key], {});\n",
              "          if (!dataTable) return;\n",
              "\n",
              "          const docLinkHtml = 'Like what you see? Visit the ' +\n",
              "            '<a target=\"_blank\" href=https://colab.research.google.com/notebooks/data_table.ipynb>data table notebook</a>'\n",
              "            + ' to learn more about interactive tables.';\n",
              "          element.innerHTML = '';\n",
              "          dataTable['output_type'] = 'display_data';\n",
              "          await google.colab.output.renderOutput(dataTable, element);\n",
              "          const docLink = document.createElement('div');\n",
              "          docLink.innerHTML = docLinkHtml;\n",
              "          element.appendChild(docLink);\n",
              "        }\n",
              "      </script>\n",
              "    </div>\n",
              "  </div>\n",
              "  "
            ]
          },
          "metadata": {},
          "execution_count": 35
        }
      ]
    },
    {
      "cell_type": "code",
      "source": [
        "# Droping Driving_License variable\n",
        "Health_df= Health_df.drop([\"Driving_License\"],axis=1)"
      ],
      "metadata": {
        "id": "P4fQo_lBMVr-"
      },
      "execution_count": null,
      "outputs": []
    },
    {
      "cell_type": "code",
      "source": [
        "# VIF values for independent features\n",
        "calc_vif(Health_df[[i for i in Health_df.describe().columns if i not in ['Response']]])"
      ],
      "metadata": {
        "id": "2ulIwW4tMqyo",
        "colab": {
          "base_uri": "https://localhost:8080/",
          "height": 331
        },
        "outputId": "f7aa123d-5f4e-4ac2-86a9-8b93b6495d17"
      },
      "execution_count": null,
      "outputs": [
        {
          "output_type": "execute_result",
          "data": {
            "text/plain": [
              "              variables        VIF\n",
              "0                Gender   1.847842\n",
              "1                   Age  13.471196\n",
              "2           Region_Code   4.558850\n",
              "3    Previously_Insured   4.620188\n",
              "4           Vehicle_Age   6.023186\n",
              "5        Vehicle_Damage   5.186692\n",
              "6        Annual_Premium   1.013756\n",
              "7  Policy_Sales_Channel   5.217964\n",
              "8               Vintage   4.066432"
            ],
            "text/html": [
              "\n",
              "  <div id=\"df-ed2b22cf-349e-4dae-83b6-c8a88aac1860\">\n",
              "    <div class=\"colab-df-container\">\n",
              "      <div>\n",
              "<style scoped>\n",
              "    .dataframe tbody tr th:only-of-type {\n",
              "        vertical-align: middle;\n",
              "    }\n",
              "\n",
              "    .dataframe tbody tr th {\n",
              "        vertical-align: top;\n",
              "    }\n",
              "\n",
              "    .dataframe thead th {\n",
              "        text-align: right;\n",
              "    }\n",
              "</style>\n",
              "<table border=\"1\" class=\"dataframe\">\n",
              "  <thead>\n",
              "    <tr style=\"text-align: right;\">\n",
              "      <th></th>\n",
              "      <th>variables</th>\n",
              "      <th>VIF</th>\n",
              "    </tr>\n",
              "  </thead>\n",
              "  <tbody>\n",
              "    <tr>\n",
              "      <th>0</th>\n",
              "      <td>Gender</td>\n",
              "      <td>1.847842</td>\n",
              "    </tr>\n",
              "    <tr>\n",
              "      <th>1</th>\n",
              "      <td>Age</td>\n",
              "      <td>13.471196</td>\n",
              "    </tr>\n",
              "    <tr>\n",
              "      <th>2</th>\n",
              "      <td>Region_Code</td>\n",
              "      <td>4.558850</td>\n",
              "    </tr>\n",
              "    <tr>\n",
              "      <th>3</th>\n",
              "      <td>Previously_Insured</td>\n",
              "      <td>4.620188</td>\n",
              "    </tr>\n",
              "    <tr>\n",
              "      <th>4</th>\n",
              "      <td>Vehicle_Age</td>\n",
              "      <td>6.023186</td>\n",
              "    </tr>\n",
              "    <tr>\n",
              "      <th>5</th>\n",
              "      <td>Vehicle_Damage</td>\n",
              "      <td>5.186692</td>\n",
              "    </tr>\n",
              "    <tr>\n",
              "      <th>6</th>\n",
              "      <td>Annual_Premium</td>\n",
              "      <td>1.013756</td>\n",
              "    </tr>\n",
              "    <tr>\n",
              "      <th>7</th>\n",
              "      <td>Policy_Sales_Channel</td>\n",
              "      <td>5.217964</td>\n",
              "    </tr>\n",
              "    <tr>\n",
              "      <th>8</th>\n",
              "      <td>Vintage</td>\n",
              "      <td>4.066432</td>\n",
              "    </tr>\n",
              "  </tbody>\n",
              "</table>\n",
              "</div>\n",
              "      <button class=\"colab-df-convert\" onclick=\"convertToInteractive('df-ed2b22cf-349e-4dae-83b6-c8a88aac1860')\"\n",
              "              title=\"Convert this dataframe to an interactive table.\"\n",
              "              style=\"display:none;\">\n",
              "        \n",
              "  <svg xmlns=\"http://www.w3.org/2000/svg\" height=\"24px\"viewBox=\"0 0 24 24\"\n",
              "       width=\"24px\">\n",
              "    <path d=\"M0 0h24v24H0V0z\" fill=\"none\"/>\n",
              "    <path d=\"M18.56 5.44l.94 2.06.94-2.06 2.06-.94-2.06-.94-.94-2.06-.94 2.06-2.06.94zm-11 1L8.5 8.5l.94-2.06 2.06-.94-2.06-.94L8.5 2.5l-.94 2.06-2.06.94zm10 10l.94 2.06.94-2.06 2.06-.94-2.06-.94-.94-2.06-.94 2.06-2.06.94z\"/><path d=\"M17.41 7.96l-1.37-1.37c-.4-.4-.92-.59-1.43-.59-.52 0-1.04.2-1.43.59L10.3 9.45l-7.72 7.72c-.78.78-.78 2.05 0 2.83L4 21.41c.39.39.9.59 1.41.59.51 0 1.02-.2 1.41-.59l7.78-7.78 2.81-2.81c.8-.78.8-2.07 0-2.86zM5.41 20L4 18.59l7.72-7.72 1.47 1.35L5.41 20z\"/>\n",
              "  </svg>\n",
              "      </button>\n",
              "      \n",
              "  <style>\n",
              "    .colab-df-container {\n",
              "      display:flex;\n",
              "      flex-wrap:wrap;\n",
              "      gap: 12px;\n",
              "    }\n",
              "\n",
              "    .colab-df-convert {\n",
              "      background-color: #E8F0FE;\n",
              "      border: none;\n",
              "      border-radius: 50%;\n",
              "      cursor: pointer;\n",
              "      display: none;\n",
              "      fill: #1967D2;\n",
              "      height: 32px;\n",
              "      padding: 0 0 0 0;\n",
              "      width: 32px;\n",
              "    }\n",
              "\n",
              "    .colab-df-convert:hover {\n",
              "      background-color: #E2EBFA;\n",
              "      box-shadow: 0px 1px 2px rgba(60, 64, 67, 0.3), 0px 1px 3px 1px rgba(60, 64, 67, 0.15);\n",
              "      fill: #174EA6;\n",
              "    }\n",
              "\n",
              "    [theme=dark] .colab-df-convert {\n",
              "      background-color: #3B4455;\n",
              "      fill: #D2E3FC;\n",
              "    }\n",
              "\n",
              "    [theme=dark] .colab-df-convert:hover {\n",
              "      background-color: #434B5C;\n",
              "      box-shadow: 0px 1px 3px 1px rgba(0, 0, 0, 0.15);\n",
              "      filter: drop-shadow(0px 1px 2px rgba(0, 0, 0, 0.3));\n",
              "      fill: #FFFFFF;\n",
              "    }\n",
              "  </style>\n",
              "\n",
              "      <script>\n",
              "        const buttonEl =\n",
              "          document.querySelector('#df-ed2b22cf-349e-4dae-83b6-c8a88aac1860 button.colab-df-convert');\n",
              "        buttonEl.style.display =\n",
              "          google.colab.kernel.accessAllowed ? 'block' : 'none';\n",
              "\n",
              "        async function convertToInteractive(key) {\n",
              "          const element = document.querySelector('#df-ed2b22cf-349e-4dae-83b6-c8a88aac1860');\n",
              "          const dataTable =\n",
              "            await google.colab.kernel.invokeFunction('convertToInteractive',\n",
              "                                                     [key], {});\n",
              "          if (!dataTable) return;\n",
              "\n",
              "          const docLinkHtml = 'Like what you see? Visit the ' +\n",
              "            '<a target=\"_blank\" href=https://colab.research.google.com/notebooks/data_table.ipynb>data table notebook</a>'\n",
              "            + ' to learn more about interactive tables.';\n",
              "          element.innerHTML = '';\n",
              "          dataTable['output_type'] = 'display_data';\n",
              "          await google.colab.output.renderOutput(dataTable, element);\n",
              "          const docLink = document.createElement('div');\n",
              "          docLink.innerHTML = docLinkHtml;\n",
              "          element.appendChild(docLink);\n",
              "        }\n",
              "      </script>\n",
              "    </div>\n",
              "  </div>\n",
              "  "
            ]
          },
          "metadata": {},
          "execution_count": 37
        }
      ]
    },
    {
      "cell_type": "markdown",
      "source": [
        "**After dropping Driving_License we got good VIF scores**"
      ],
      "metadata": {
        "id": "Vs9UxYRPUXbR"
      }
    },
    {
      "cell_type": "markdown",
      "source": [
        "# **Handling Imbalance**"
      ],
      "metadata": {
        "id": "FMi8qI4X8ST2"
      }
    },
    {
      "cell_type": "code",
      "source": [
        "X=Health_df.drop(['Response'],axis=1) #contain all  independent variable\n",
        "y=Health_df['Response']           #dependent variable\n"
      ],
      "metadata": {
        "id": "Rmue7rfGM2oj"
      },
      "execution_count": null,
      "outputs": []
    },
    {
      "cell_type": "code",
      "source": [
        "# Importing libraries for resampling\n",
        "# Handling imbalance data\n",
        "from imblearn.over_sampling import SMOTE\n",
        "\n",
        "smote = SMOTE()\n",
        "\n",
        "# fit predictor and target variable\n",
        "X, y = smote.fit_resample(X, y)\n",
        "\n",
        "\n",
        "print('Original dataset shape', len(Health_df))\n",
        "print('Resampled dataset shape', len(y))"
      ],
      "metadata": {
        "id": "p11numCjtMpl",
        "colab": {
          "base_uri": "https://localhost:8080/"
        },
        "outputId": "f6ff2eb8-064f-486e-f66c-464fdb7c30c9"
      },
      "execution_count": null,
      "outputs": [
        {
          "output_type": "stream",
          "name": "stdout",
          "text": [
            "Original dataset shape 381109\n",
            "Resampled dataset shape 668798\n"
          ]
        }
      ]
    },
    {
      "cell_type": "code",
      "source": [
        "X.shape"
      ],
      "metadata": {
        "id": "Jw6ClUEPM6QR",
        "colab": {
          "base_uri": "https://localhost:8080/"
        },
        "outputId": "c2ac51cb-db70-44b8-abee-e86faf60bc4d"
      },
      "execution_count": null,
      "outputs": [
        {
          "output_type": "execute_result",
          "data": {
            "text/plain": [
              "(668798, 9)"
            ]
          },
          "metadata": {},
          "execution_count": 40
        }
      ]
    },
    {
      "cell_type": "markdown",
      "source": [
        "# **Test-Train Split**"
      ],
      "metadata": {
        "id": "5ySb4uEmszul"
      }
    },
    {
      "cell_type": "code",
      "source": [
        "# Splitting the dataset into training and testing\n",
        "X_train,X_test,y_train,y_test = train_test_split(X, y,test_size=0.20,random_state = 10)"
      ],
      "metadata": {
        "id": "PrAKnU32Z4rz"
      },
      "execution_count": null,
      "outputs": []
    },
    {
      "cell_type": "code",
      "source": [
        "# Checking balanced data for train dataset\n",
        "y_train.value_counts()"
      ],
      "metadata": {
        "colab": {
          "base_uri": "https://localhost:8080/"
        },
        "id": "fnVq_njt6-xH",
        "outputId": "1b28c2f6-5787-4664-b44b-180d9e96c2cd"
      },
      "execution_count": null,
      "outputs": [
        {
          "output_type": "execute_result",
          "data": {
            "text/plain": [
              "1    267521\n",
              "0    267517\n",
              "Name: Response, dtype: int64"
            ]
          },
          "metadata": {},
          "execution_count": 43
        }
      ]
    },
    {
      "cell_type": "code",
      "source": [
        "# Checking balanced data for test dataset\n",
        "y_test.value_counts()"
      ],
      "metadata": {
        "id": "ct9PHvIqV1-D",
        "colab": {
          "base_uri": "https://localhost:8080/"
        },
        "outputId": "9c5ba47e-e4a0-405f-f87d-ac77bfb0f69a"
      },
      "execution_count": null,
      "outputs": [
        {
          "output_type": "execute_result",
          "data": {
            "text/plain": [
              "0    66882\n",
              "1    66878\n",
              "Name: Response, dtype: int64"
            ]
          },
          "metadata": {},
          "execution_count": 44
        }
      ]
    },
    {
      "cell_type": "markdown",
      "source": [
        "#**Model**"
      ],
      "metadata": {
        "id": "4A7McJaRPOSp"
      }
    },
    {
      "cell_type": "markdown",
      "source": [
        "# **Logistic Regression**"
      ],
      "metadata": {
        "id": "pH1uT8_EW-Fm"
      }
    },
    {
      "cell_type": "code",
      "source": [
        "# Model of logistic regression\n",
        "LOG_RE=LogisticRegression()\n",
        "LOG_RE=LOG_RE.fit(X_train,y_train)\n",
        "LOG_RE_pred=LOG_RE.predict(X_test)\n",
        "LOG_RE_probability =LOG_RE.predict_proba(X_test)[:,1]\n",
        "\n",
        "# evaluating the model on the following metrics.\n",
        "accu_logreg = accuracy_score(y_test,LOG_RE_pred)\n",
        "recall_logreg = recall_score(y_test,LOG_RE_pred)\n",
        "prec_logreg = precision_score(y_test,LOG_RE_pred)\n",
        "f1score_logreg=f1_score(y_test,LOG_RE_pred)\n",
        "\n",
        "#print accuracy ,classification report and confusion matrix  values of model.\n",
        "print(\"Accuracy : \", accuracy_score(y_test,LOG_RE_pred)*100)\n",
        "print(classification_report(y_test,LOG_RE_pred))\n",
        "\n",
        "matrix = confusion_matrix(y_test,LOG_RE_pred)\n",
        "print('Confusion matrix : \\n',matrix)\n"
      ],
      "metadata": {
        "id": "N0xMW9swWMXq",
        "colab": {
          "base_uri": "https://localhost:8080/"
        },
        "outputId": "c0890a2b-6e9d-4922-9cb7-25fbc35c7063"
      },
      "execution_count": null,
      "outputs": [
        {
          "output_type": "stream",
          "name": "stdout",
          "text": [
            "Accuracy :  77.78857655502392\n",
            "              precision    recall  f1-score   support\n",
            "\n",
            "           0       0.94      0.59      0.73     66882\n",
            "           1       0.70      0.96      0.81     66878\n",
            "\n",
            "    accuracy                           0.78    133760\n",
            "   macro avg       0.82      0.78      0.77    133760\n",
            "weighted avg       0.82      0.78      0.77    133760\n",
            "\n",
            "Confusion matrix : \n",
            " [[39538 27344]\n",
            " [ 2366 64512]]\n"
          ]
        }
      ]
    },
    {
      "cell_type": "code",
      "source": [
        "# Importing roc curve\n",
        "# The ROC curve is created by plotting the true positive rate (TPR) against the false positive rate (FPR) at various threshold settings.\n",
        "from sklearn.metrics import roc_curve\n",
        "fpr, tpr, _ = roc_curve(y_test,LOG_RE_probability)\n",
        "\n",
        "# Evaluation metrics\n",
        "plt.title('logistic Regression ROC curve')\n",
        "plt.xlabel('FPR (Precision)')\n",
        "plt.ylabel('TPR (Recall)')\n",
        "\n",
        "# Performance metrics\n",
        "plt.plot(fpr,tpr)\n",
        "plt.plot((0,1), ls='dashed',color='black')\n",
        "plt.show()"
      ],
      "metadata": {
        "id": "NUs6w4gTK2AD",
        "colab": {
          "base_uri": "https://localhost:8080/",
          "height": 295
        },
        "outputId": "e01ee883-ffa0-4ae8-a671-5bb5ff69bc9a"
      },
      "execution_count": null,
      "outputs": [
        {
          "output_type": "display_data",
          "data": {
            "text/plain": [
              "<Figure size 432x288 with 1 Axes>"
            ],
            "image/png": "[encoded data removed]"
          },
          "metadata": {
            "needs_background": "light"
          }
        }
      ]
    },
    {
      "cell_type": "code",
      "source": [
        "# Confusion matrix \n",
        "cm=confusion_matrix(y_test,LOG_RE_pred)\n",
        "print(cm)\n",
        "sns.heatmap(cm,annot=True,cmap='BuPu')"
      ],
      "metadata": {
        "id": "9ztdlHsEMlRP",
        "colab": {
          "base_uri": "https://localhost:8080/",
          "height": 320
        },
        "outputId": "4604642d-72a2-42f8-c704-482185d44e53"
      },
      "execution_count": null,
      "outputs": [
        {
          "output_type": "stream",
          "name": "stdout",
          "text": [
            "[[39538 27344]\n",
            " [ 2366 64512]]\n"
          ]
        },
        {
          "output_type": "execute_result",
          "data": {
            "text/plain": [
              "<matplotlib.axes._subplots.AxesSubplot at 0x7f7c71c91610>"
            ]
          },
          "metadata": {},
          "execution_count": 47
        },
        {
          "output_type": "display_data",
          "data": {
            "text/plain": [
              "<Figure size 432x288 with 2 Axes>"
            ],
            "image/png": "[encoded data removed]"
          },
          "metadata": {
            "needs_background": "light"
          }
        }
      ]
    },
    {
      "cell_type": "markdown",
      "source": [
        "# **Decision tree**"
      ],
      "metadata": {
        "id": "dxdY1jmY-GOd"
      }
    },
    {
      "cell_type": "code",
      "source": [
        "# Creating instance for our model, fiting and predicitng\n",
        "dtree = DecisionTreeClassifier()\n",
        "dtree = dtree.fit(X_train, y_train)\n",
        "dtree_pred = dtree.predict(X_test)\n",
        "dtree_probability =dtree.predict_proba(X_test)[:,1]\n",
        "\n",
        "# evaluating the model on the following metrics.\n",
        "accu_dtree = accuracy_score(y_test,dtree_pred)\n",
        "recall_dtree = recall_score(y_test,dtree_pred)\n",
        "prec_dtree = precision_score(y_test,dtree_pred)\n",
        "f1score_dtree=f1_score(y_test,dtree_pred)\n",
        "\n",
        "\n",
        "#print accuracy ,classification report and confusion matrix  values of model.\n",
        "\n",
        "print(accuracy_score(y_test, dtree_pred)*100)\n",
        "print(classification_report(y_test, dtree_pred))\n",
        "\n",
        "print('Confusion matrix : \\n',confusion_matrix(y_test,dtree_pred, labels=[1,0]))\n"
      ],
      "metadata": {
        "id": "vlxt1l0_jlmO",
        "colab": {
          "base_uri": "https://localhost:8080/"
        },
        "outputId": "f2e22fb2-6c74-4f55-ca5f-d4d87e2ec5a4"
      },
      "execution_count": null,
      "outputs": [
        {
          "output_type": "stream",
          "name": "stdout",
          "text": [
            "87.19348086124403\n",
            "              precision    recall  f1-score   support\n",
            "\n",
            "           0       0.88      0.86      0.87     66882\n",
            "           1       0.86      0.89      0.87     66878\n",
            "\n",
            "    accuracy                           0.87    133760\n",
            "   macro avg       0.87      0.87      0.87    133760\n",
            "weighted avg       0.87      0.87      0.87    133760\n",
            "\n",
            "Confusion matrix : \n",
            " [[59282  7596]\n",
            " [ 9534 57348]]\n"
          ]
        }
      ]
    },
    {
      "cell_type": "code",
      "source": [
        "# Analyze Performance \n",
        "from sklearn.metrics import roc_curve\n",
        "fpr, tpr, _ = roc_curve(y_test,dtree_probability)\n",
        "\n",
        "plt.title('Decision Tree ROC curve')\n",
        "plt.xlabel('FPR (Precision)')\n",
        "plt.ylabel('TPR (Recall)')\n",
        "\n",
        "plt.plot(fpr,tpr)\n",
        "plt.plot((0,1), ls='dashed',color='black')\n",
        "plt.show()"
      ],
      "metadata": {
        "colab": {
          "base_uri": "https://localhost:8080/",
          "height": 295
        },
        "id": "fL2q6PTQ07wd",
        "outputId": "6e51cf39-bfe3-4e47-fd55-01082fb0ea28"
      },
      "execution_count": null,
      "outputs": [
        {
          "output_type": "display_data",
          "data": {
            "text/plain": [
              "<Figure size 432x288 with 1 Axes>"
            ],
            "image/png": "[encoded data removed]"
          },
          "metadata": {
            "needs_background": "light"
          }
        }
      ]
    },
    {
      "cell_type": "code",
      "source": [
        "# Confusion matrix useful to find how many values are classified correctly\n",
        "cm=confusion_matrix(y_test,dtree_pred)\n",
        "print(cm)\n",
        "sns.heatmap(cm,annot=True,cmap='BuPu')"
      ],
      "metadata": {
        "colab": {
          "base_uri": "https://localhost:8080/",
          "height": 320
        },
        "id": "LDVfXava07wd",
        "outputId": "8460cfc9-eda3-4b29-c406-758fdf98604a"
      },
      "execution_count": null,
      "outputs": [
        {
          "output_type": "stream",
          "name": "stdout",
          "text": [
            "[[57348  9534]\n",
            " [ 7596 59282]]\n"
          ]
        },
        {
          "output_type": "execute_result",
          "data": {
            "text/plain": [
              "<matplotlib.axes._subplots.AxesSubplot at 0x7f7c71bb8e10>"
            ]
          },
          "metadata": {},
          "execution_count": 50
        },
        {
          "output_type": "display_data",
          "data": {
            "text/plain": [
              "<Figure size 432x288 with 2 Axes>"
            ],
            "image/png": "[encoded data removed]"
          },
          "metadata": {
            "needs_background": "light"
          }
        }
      ]
    },
    {
      "cell_type": "markdown",
      "source": [
        "# **Random Forest classifier**"
      ],
      "metadata": {
        "id": "0lFbI03s-KZA"
      }
    },
    {
      "cell_type": "code",
      "source": [
        "# Creating instance for our model, fiting and predicitng\n",
        "rf_tree = RandomForestClassifier()\n",
        "rf_tree.fit(X_train, y_train)\n",
        "rf_tree_pred = rf_tree.predict(X_test)\n",
        "rf_tree_probability = rf_tree.predict_proba(X_test)[:,1]\n",
        "\n",
        "# evaluating the model on the following metrics.\n",
        "accu_rf= accuracy_score(y_test,rf_tree_pred)\n",
        "recall_rf = recall_score(y_test,rf_tree_pred)\n",
        "prec_rf= precision_score(y_test,rf_tree_pred)\n",
        "f1score_rf=f1_score(y_test,rf_tree_pred)\n",
        "\n",
        "#print accuracy ,classification report and confusion matrix  values of model.\n",
        "\n",
        "print(accuracy_score(y_test, rf_tree_pred)*100)\n",
        "print(classification_report(y_test, rf_tree_pred))\n",
        "print(\"Confusion matrix\\n\", confusion_matrix(y_test, rf_tree_pred))"
      ],
      "metadata": {
        "id": "uIQghiYiT8Bg",
        "colab": {
          "base_uri": "https://localhost:8080/"
        },
        "outputId": "d5709974-36ec-4330-aba4-6d302cb033db"
      },
      "execution_count": null,
      "outputs": [
        {
          "output_type": "stream",
          "name": "stdout",
          "text": [
            "89.84823564593302\n",
            "              precision    recall  f1-score   support\n",
            "\n",
            "           0       0.92      0.88      0.90     66882\n",
            "           1       0.88      0.92      0.90     66878\n",
            "\n",
            "    accuracy                           0.90    133760\n",
            "   macro avg       0.90      0.90      0.90    133760\n",
            "weighted avg       0.90      0.90      0.90    133760\n",
            "\n",
            "Confusion matrix\n",
            " [[58624  8258]\n",
            " [ 5321 61557]]\n"
          ]
        }
      ]
    },
    {
      "cell_type": "code",
      "source": [
        "# Analyze Performance \n",
        "from sklearn.metrics import roc_curve\n",
        "fpr, tpr, _ = roc_curve(y_test,rf_tree_probability )\n",
        "\n",
        "plt.title('RandomForestClassifier ROC curve')\n",
        "plt.xlabel('FPR (Precision)')\n",
        "plt.ylabel('TPR (Recall)')\n",
        "\n",
        "plt.plot(fpr,tpr)\n",
        "plt.plot((0,1), ls='dashed',color='black')\n",
        "plt.show()"
      ],
      "metadata": {
        "colab": {
          "base_uri": "https://localhost:8080/",
          "height": 295
        },
        "id": "0yEiCDPx1Qkp",
        "outputId": "74bf90cd-5cf5-4790-8f6b-5d101356af65"
      },
      "execution_count": null,
      "outputs": [
        {
          "output_type": "display_data",
          "data": {
            "text/plain": [
              "<Figure size 432x288 with 1 Axes>"
            ],
            "image/png": "[encoded data removed]"
          },
          "metadata": {
            "needs_background": "light"
          }
        }
      ]
    },
    {
      "cell_type": "code",
      "source": [
        "# Confusion matrix useful to find how many values are classified correctly\n",
        "cm=confusion_matrix(y_test,rf_tree_pred)\n",
        "print(cm)\n",
        "sns.heatmap(cm,annot=True,cmap='BuPu')"
      ],
      "metadata": {
        "colab": {
          "base_uri": "https://localhost:8080/",
          "height": 320
        },
        "id": "lcytS6OA1Qkq",
        "outputId": "3d6e391c-a15f-4a7d-b4dc-b44c6b2f6601"
      },
      "execution_count": null,
      "outputs": [
        {
          "output_type": "stream",
          "name": "stdout",
          "text": [
            "[[58624  8258]\n",
            " [ 5321 61557]]\n"
          ]
        },
        {
          "output_type": "execute_result",
          "data": {
            "text/plain": [
              "<matplotlib.axes._subplots.AxesSubplot at 0x7f7c71aca7d0>"
            ]
          },
          "metadata": {},
          "execution_count": 53
        },
        {
          "output_type": "display_data",
          "data": {
            "text/plain": [
              "<Figure size 432x288 with 2 Axes>"
            ],
            "image/png": "[encoded data removed]"
          },
          "metadata": {
            "needs_background": "light"
          }
        }
      ]
    },
    {
      "cell_type": "markdown",
      "source": [
        "# **XGB Classifier**"
      ],
      "metadata": {
        "id": "5QvyqwNZ_23T"
      }
    },
    {
      "cell_type": "code",
      "source": [
        "# Importing of XGBClassifier\n",
        "import xgboost as xgb\n",
        "xgb_model=xgb.XGBClassifier()\n",
        "xgb_model.fit(X_train,y_train)\n",
        "xgb_pred = xgb_model.predict(X_test)\n",
        "xgb_model_probability = xgb_model.predict_proba(X_test)[:,1]\n",
        "\n",
        "# evaluating the model on the following metrics.\n",
        "accu_xgb = accuracy_score(y_test,xgb_pred)\n",
        "recall_xgb = recall_score(y_test,xgb_pred)\n",
        "prec_xgb = precision_score(y_test,xgb_pred)\n",
        "f1score_xgb=f1_score(y_test,xgb_pred)\n",
        "\n",
        "#print accuracy ,classification report and confusion matrix  values of model.\n",
        "\n",
        "print(accuracy_score(y_test, xgb_pred)*100)\n",
        "print(classification_report(y_test, xgb_pred))\n",
        "print(\"Confusion matrix\\n\", confusion_matrix(y_test, xgb_pred))"
      ],
      "metadata": {
        "id": "U2c4YM_YXNC-",
        "colab": {
          "base_uri": "https://localhost:8080/"
        },
        "outputId": "2e2febbc-9708-4d47-b295-c6d53b0a3209"
      },
      "execution_count": null,
      "outputs": [
        {
          "output_type": "stream",
          "name": "stdout",
          "text": [
            "84.15146531100478\n",
            "              precision    recall  f1-score   support\n",
            "\n",
            "           0       0.89      0.78      0.83     66882\n",
            "           1       0.80      0.91      0.85     66878\n",
            "\n",
            "    accuracy                           0.84    133760\n",
            "   macro avg       0.85      0.84      0.84    133760\n",
            "weighted avg       0.85      0.84      0.84    133760\n",
            "\n",
            "Confusion matrix\n",
            " [[51977 14905]\n",
            " [ 6294 60584]]\n"
          ]
        }
      ]
    },
    {
      "cell_type": "code",
      "source": [
        "# performance and evaluation\n",
        "from sklearn.metrics import roc_curve\n",
        "fpr, tpr, _ = roc_curve(y_test,xgb_model_probability)\n",
        "\n",
        "plt.title('XGB Classifier curve')\n",
        "plt.xlabel('FPR (Precision)')\n",
        "plt.ylabel('TPR (Recall)')\n",
        "\n",
        "plt.plot(fpr,tpr)\n",
        "plt.plot((0,1), ls='dashed',color='black')\n",
        "plt.show()"
      ],
      "metadata": {
        "colab": {
          "base_uri": "https://localhost:8080/",
          "height": 295
        },
        "id": "CLTJZvTA1Tfv",
        "outputId": "41a22d74-14ca-4bf7-d925-f470a36126d5"
      },
      "execution_count": null,
      "outputs": [
        {
          "output_type": "display_data",
          "data": {
            "text/plain": [
              "<Figure size 432x288 with 1 Axes>"
            ],
            "image/png": "[encoded data removed]"
          },
          "metadata": {
            "needs_background": "light"
          }
        }
      ]
    },
    {
      "cell_type": "code",
      "source": [
        "# Confusion matrix useful to find how many values are classified correctly\n",
        "cm=confusion_matrix(y_test,xgb_pred)\n",
        "print(cm)\n",
        "sns.heatmap(cm,annot=True,cmap='BuPu')"
      ],
      "metadata": {
        "colab": {
          "base_uri": "https://localhost:8080/",
          "height": 322
        },
        "id": "nUwh-ZNl1Tfw",
        "outputId": "c8ec7e29-d8ac-4ee8-a5dc-173fbde6d3d5"
      },
      "execution_count": null,
      "outputs": [
        {
          "output_type": "stream",
          "name": "stdout",
          "text": [
            "[[51977 14905]\n",
            " [ 6294 60584]]\n"
          ]
        },
        {
          "output_type": "execute_result",
          "data": {
            "text/plain": [
              "<matplotlib.axes._subplots.AxesSubplot at 0x7f7c719f4790>"
            ]
          },
          "metadata": {},
          "execution_count": 56
        },
        {
          "output_type": "display_data",
          "data": {
            "text/plain": [
              "<Figure size 432x288 with 2 Axes>"
            ],
            "image/png": "[encoded data removed]"
          },
          "metadata": {
            "needs_background": "light"
          }
        }
      ]
    },
    {
      "cell_type": "markdown",
      "source": [
        "#**Comparing Models**"
      ],
      "metadata": {
        "id": "dEToq3fU1X5o"
      }
    },
    {
      "cell_type": "code",
      "source": [
        "## Comparing the performance of the models\n",
        "ind=['Logistic regression','Decision Tree','Randomforest','XGBClassifier']\n",
        "df={\"Accuracy\":[accu_logreg,accu_dtree,accu_rf,accu_xgb],\"Recall\":[recall_logreg,recall_dtree,recall_rf,recall_xgb],\"Precision\":[prec_logreg,prec_dtree,prec_rf,prec_xgb],'f1_score':[f1score_logreg,f1score_dtree,f1score_rf,f1score_xgb]}\n",
        "result=pd.DataFrame(data=df,index=ind)\n",
        "result"
      ],
      "metadata": {
        "id": "xoFpfwtaSw9h",
        "colab": {
          "base_uri": "https://localhost:8080/",
          "height": 175
        },
        "outputId": "1159db6f-aa51-47d3-e4bf-62634a00b37e"
      },
      "execution_count": null,
      "outputs": [
        {
          "output_type": "execute_result",
          "data": {
            "text/plain": [
              "                     Accuracy    Recall  Precision  f1_score\n",
              "Logistic regression  0.777886  0.964622   0.702317  0.812832\n",
              "Decision Tree        0.871935  0.886420   0.861457  0.873760\n",
              "Randomforest         0.898482  0.920437   0.881716  0.900661\n",
              "XGBClassifier        0.841515  0.905888   0.802554  0.851096"
            ],
            "text/html": [
              "\n",
              "  <div id=\"df-750b892e-08c2-4c3e-944e-7977e357a865\">\n",
              "    <div class=\"colab-df-container\">\n",
              "      <div>\n",
              "<style scoped>\n",
              "    .dataframe tbody tr th:only-of-type {\n",
              "        vertical-align: middle;\n",
              "    }\n",
              "\n",
              "    .dataframe tbody tr th {\n",
              "        vertical-align: top;\n",
              "    }\n",
              "\n",
              "    .dataframe thead th {\n",
              "        text-align: right;\n",
              "    }\n",
              "</style>\n",
              "<table border=\"1\" class=\"dataframe\">\n",
              "  <thead>\n",
              "    <tr style=\"text-align: right;\">\n",
              "      <th></th>\n",
              "      <th>Accuracy</th>\n",
              "      <th>Recall</th>\n",
              "      <th>Precision</th>\n",
              "      <th>f1_score</th>\n",
              "    </tr>\n",
              "  </thead>\n",
              "  <tbody>\n",
              "    <tr>\n",
              "      <th>Logistic regression</th>\n",
              "      <td>0.777886</td>\n",
              "      <td>0.964622</td>\n",
              "      <td>0.702317</td>\n",
              "      <td>0.812832</td>\n",
              "    </tr>\n",
              "    <tr>\n",
              "      <th>Decision Tree</th>\n",
              "      <td>0.871935</td>\n",
              "      <td>0.886420</td>\n",
              "      <td>0.861457</td>\n",
              "      <td>0.873760</td>\n",
              "    </tr>\n",
              "    <tr>\n",
              "      <th>Randomforest</th>\n",
              "      <td>0.898482</td>\n",
              "      <td>0.920437</td>\n",
              "      <td>0.881716</td>\n",
              "      <td>0.900661</td>\n",
              "    </tr>\n",
              "    <tr>\n",
              "      <th>XGBClassifier</th>\n",
              "      <td>0.841515</td>\n",
              "      <td>0.905888</td>\n",
              "      <td>0.802554</td>\n",
              "      <td>0.851096</td>\n",
              "    </tr>\n",
              "  </tbody>\n",
              "</table>\n",
              "</div>\n",
              "      <button class=\"colab-df-convert\" onclick=\"convertToInteractive('df-750b892e-08c2-4c3e-944e-7977e357a865')\"\n",
              "              title=\"Convert this dataframe to an interactive table.\"\n",
              "              style=\"display:none;\">\n",
              "        \n",
              "  <svg xmlns=\"http://www.w3.org/2000/svg\" height=\"24px\"viewBox=\"0 0 24 24\"\n",
              "       width=\"24px\">\n",
              "    <path d=\"M0 0h24v24H0V0z\" fill=\"none\"/>\n",
              "    <path d=\"M18.56 5.44l.94 2.06.94-2.06 2.06-.94-2.06-.94-.94-2.06-.94 2.06-2.06.94zm-11 1L8.5 8.5l.94-2.06 2.06-.94-2.06-.94L8.5 2.5l-.94 2.06-2.06.94zm10 10l.94 2.06.94-2.06 2.06-.94-2.06-.94-.94-2.06-.94 2.06-2.06.94z\"/><path d=\"M17.41 7.96l-1.37-1.37c-.4-.4-.92-.59-1.43-.59-.52 0-1.04.2-1.43.59L10.3 9.45l-7.72 7.72c-.78.78-.78 2.05 0 2.83L4 21.41c.39.39.9.59 1.41.59.51 0 1.02-.2 1.41-.59l7.78-7.78 2.81-2.81c.8-.78.8-2.07 0-2.86zM5.41 20L4 18.59l7.72-7.72 1.47 1.35L5.41 20z\"/>\n",
              "  </svg>\n",
              "      </button>\n",
              "      \n",
              "  <style>\n",
              "    .colab-df-container {\n",
              "      display:flex;\n",
              "      flex-wrap:wrap;\n",
              "      gap: 12px;\n",
              "    }\n",
              "\n",
              "    .colab-df-convert {\n",
              "      background-color: #E8F0FE;\n",
              "      border: none;\n",
              "      border-radius: 50%;\n",
              "      cursor: pointer;\n",
              "      display: none;\n",
              "      fill: #1967D2;\n",
              "      height: 32px;\n",
              "      padding: 0 0 0 0;\n",
              "      width: 32px;\n",
              "    }\n",
              "\n",
              "    .colab-df-convert:hover {\n",
              "      background-color: #E2EBFA;\n",
              "      box-shadow: 0px 1px 2px rgba(60, 64, 67, 0.3), 0px 1px 3px 1px rgba(60, 64, 67, 0.15);\n",
              "      fill: #174EA6;\n",
              "    }\n",
              "\n",
              "    [theme=dark] .colab-df-convert {\n",
              "      background-color: #3B4455;\n",
              "      fill: #D2E3FC;\n",
              "    }\n",
              "\n",
              "    [theme=dark] .colab-df-convert:hover {\n",
              "      background-color: #434B5C;\n",
              "      box-shadow: 0px 1px 3px 1px rgba(0, 0, 0, 0.15);\n",
              "      filter: drop-shadow(0px 1px 2px rgba(0, 0, 0, 0.3));\n",
              "      fill: #FFFFFF;\n",
              "    }\n",
              "  </style>\n",
              "\n",
              "      <script>\n",
              "        const buttonEl =\n",
              "          document.querySelector('#df-750b892e-08c2-4c3e-944e-7977e357a865 button.colab-df-convert');\n",
              "        buttonEl.style.display =\n",
              "          google.colab.kernel.accessAllowed ? 'block' : 'none';\n",
              "\n",
              "        async function convertToInteractive(key) {\n",
              "          const element = document.querySelector('#df-750b892e-08c2-4c3e-944e-7977e357a865');\n",
              "          const dataTable =\n",
              "            await google.colab.kernel.invokeFunction('convertToInteractive',\n",
              "                                                     [key], {});\n",
              "          if (!dataTable) return;\n",
              "\n",
              "          const docLinkHtml = 'Like what you see? Visit the ' +\n",
              "            '<a target=\"_blank\" href=https://colab.research.google.com/notebooks/data_table.ipynb>data table notebook</a>'\n",
              "            + ' to learn more about interactive tables.';\n",
              "          element.innerHTML = '';\n",
              "          dataTable['output_type'] = 'display_data';\n",
              "          await google.colab.output.renderOutput(dataTable, element);\n",
              "          const docLink = document.createElement('div');\n",
              "          docLink.innerHTML = docLinkHtml;\n",
              "          element.appendChild(docLink);\n",
              "        }\n",
              "      </script>\n",
              "    </div>\n",
              "  </div>\n",
              "  "
            ]
          },
          "metadata": {},
          "execution_count": 57
        }
      ]
    },
    {
      "cell_type": "markdown",
      "source": [
        "# **Hyperparameter tuning**  "
      ],
      "metadata": {
        "id": "ja3z7O41Nskg"
      }
    },
    {
      "cell_type": "code",
      "source": [
        "# installing the important libraries\n",
        "pip install scikit-optimize"
      ],
      "metadata": {
        "id": "mFMZGvTOpWP_",
        "colab": {
          "base_uri": "https://localhost:8080/"
        },
        "outputId": "87d8c716-c890-4a90-e78a-62a85043c121"
      },
      "execution_count": null,
      "outputs": [
        {
          "output_type": "stream",
          "name": "stdout",
          "text": [
            "Looking in indexes: https://pypi.org/simple, https://us-python.pkg.dev/colab-wheels/public/simple/\n",
            "Collecting scikit-optimize\n",
            "  Downloading scikit_optimize-0.9.0-py2.py3-none-any.whl (100 kB)\n",
            "\u001b[K     |████████████████████████████████| 100 kB 7.7 MB/s \n",
            "\u001b[?25hRequirement already satisfied: numpy>=1.13.3 in /usr/local/lib/python3.7/dist-packages (from scikit-optimize) (1.21.6)\n",
            "Requirement already satisfied: scipy>=0.19.1 in /usr/local/lib/python3.7/dist-packages (from scikit-optimize) (1.7.3)\n",
            "Collecting pyaml>=16.9\n",
            "  Downloading pyaml-21.10.1-py2.py3-none-any.whl (24 kB)\n",
            "Requirement already satisfied: joblib>=0.11 in /usr/local/lib/python3.7/dist-packages (from scikit-optimize) (1.1.0)\n",
            "Requirement already satisfied: scikit-learn>=0.20.0 in /usr/local/lib/python3.7/dist-packages (from scikit-optimize) (1.0.2)\n",
            "Requirement already satisfied: PyYAML in /usr/local/lib/python3.7/dist-packages (from pyaml>=16.9->scikit-optimize) (3.13)\n",
            "Requirement already satisfied: threadpoolctl>=2.0.0 in /usr/local/lib/python3.7/dist-packages (from scikit-learn>=0.20.0->scikit-optimize) (3.1.0)\n",
            "Installing collected packages: pyaml, scikit-optimize\n",
            "Successfully installed pyaml-21.10.1 scikit-optimize-0.9.0\n"
          ]
        }
      ]
    },
    {
      "cell_type": "code",
      "source": [
        "# Importing Bayes search CV for hyperparameter tuning\n",
        "from skopt import BayesSearchCV\n",
        "from skopt.space import Real, Categorical, Integer"
      ],
      "metadata": {
        "id": "M7-9vJqCpdN4"
      },
      "execution_count": null,
      "outputs": []
    },
    {
      "cell_type": "code",
      "source": [
        "# #Hyperparameter Tuning on RandomForestClassifier\n",
        "\n",
        "rf = RandomForestClassifier(random_state=40)\n",
        "#Cross validation and hyperparameter tuning\n",
        "rf_bayes = BayesSearchCV(estimator= rf,\n",
        "                         search_spaces = {\n",
        "                          'max_depth': Integer(2,100),\n",
        "                          'min_samples_leaf': Integer(1,100),\n",
        "                          'min_samples_split': Integer(2,100),\n",
        "                          'n_estimators': Integer(1,140),\n",
        "                          'max_features': [\"auto\", \"sqrt\", \"log2\"]\n",
        "                        },\n",
        "                       cv = 5, verbose=2, scoring='accuracy',n_iter=10)\n",
        "\n",
        "rf_bayes.fit(X_train,y_train)"
      ],
      "metadata": {
        "id": "_fwn45E_o2Ln",
        "colab": {
          "base_uri": "https://localhost:8080/"
        },
        "outputId": "392b6f1e-d888-4d2b-e07b-0363d586a326"
      },
      "execution_count": null,
      "outputs": [
        {
          "output_type": "stream",
          "name": "stdout",
          "text": [
            "Fitting 5 folds for each of 1 candidates, totalling 5 fits\n",
            "[CV] END max_depth=69, max_features=auto, min_samples_leaf=81, min_samples_split=4, n_estimators=8; total time=   8.7s\n",
            "[CV] END max_depth=69, max_features=auto, min_samples_leaf=81, min_samples_split=4, n_estimators=8; total time=  27.2s\n",
            "[CV] END max_depth=69, max_features=auto, min_samples_leaf=81, min_samples_split=4, n_estimators=8; total time=  24.8s\n",
            "[CV] END max_depth=69, max_features=auto, min_samples_leaf=81, min_samples_split=4, n_estimators=8; total time=  10.8s\n",
            "[CV] END max_depth=69, max_features=auto, min_samples_leaf=81, min_samples_split=4, n_estimators=8; total time=   7.9s\n",
            "Fitting 5 folds for each of 1 candidates, totalling 5 fits\n",
            "[CV] END max_depth=26, max_features=sqrt, min_samples_leaf=27, min_samples_split=94, n_estimators=15; total time=  14.0s\n",
            "[CV] END max_depth=26, max_features=sqrt, min_samples_leaf=27, min_samples_split=94, n_estimators=15; total time=  14.0s\n",
            "[CV] END max_depth=26, max_features=sqrt, min_samples_leaf=27, min_samples_split=94, n_estimators=15; total time=  14.3s\n",
            "[CV] END max_depth=26, max_features=sqrt, min_samples_leaf=27, min_samples_split=94, n_estimators=15; total time=  15.0s\n",
            "[CV] END max_depth=26, max_features=sqrt, min_samples_leaf=27, min_samples_split=94, n_estimators=15; total time=  16.7s\n",
            "Fitting 5 folds for each of 1 candidates, totalling 5 fits\n",
            "[CV] END max_depth=16, max_features=log2, min_samples_leaf=67, min_samples_split=88, n_estimators=2; total time=   1.9s\n",
            "[CV] END max_depth=16, max_features=log2, min_samples_leaf=67, min_samples_split=88, n_estimators=2; total time=   1.8s\n",
            "[CV] END max_depth=16, max_features=log2, min_samples_leaf=67, min_samples_split=88, n_estimators=2; total time=   1.8s\n",
            "[CV] END max_depth=16, max_features=log2, min_samples_leaf=67, min_samples_split=88, n_estimators=2; total time=   1.8s\n",
            "[CV] END max_depth=16, max_features=log2, min_samples_leaf=67, min_samples_split=88, n_estimators=2; total time=   1.9s\n",
            "Fitting 5 folds for each of 1 candidates, totalling 5 fits\n",
            "[CV] END max_depth=79, max_features=log2, min_samples_leaf=37, min_samples_split=92, n_estimators=62; total time=  60.0s\n",
            "[CV] END max_depth=79, max_features=log2, min_samples_leaf=37, min_samples_split=92, n_estimators=62; total time=  59.5s\n",
            "[CV] END max_depth=79, max_features=log2, min_samples_leaf=37, min_samples_split=92, n_estimators=62; total time=  55.9s\n",
            "[CV] END max_depth=79, max_features=log2, min_samples_leaf=37, min_samples_split=92, n_estimators=62; total time=  56.4s\n",
            "[CV] END max_depth=79, max_features=log2, min_samples_leaf=37, min_samples_split=92, n_estimators=62; total time=  55.2s\n",
            "Fitting 5 folds for each of 1 candidates, totalling 5 fits\n",
            "[CV] END max_depth=57, max_features=log2, min_samples_leaf=93, min_samples_split=35, n_estimators=67; total time=  56.5s\n",
            "[CV] END max_depth=57, max_features=log2, min_samples_leaf=93, min_samples_split=35, n_estimators=67; total time=  55.1s\n",
            "[CV] END max_depth=57, max_features=log2, min_samples_leaf=93, min_samples_split=35, n_estimators=67; total time=  53.9s\n",
            "[CV] END max_depth=57, max_features=log2, min_samples_leaf=93, min_samples_split=35, n_estimators=67; total time=  55.6s\n",
            "[CV] END max_depth=57, max_features=log2, min_samples_leaf=93, min_samples_split=35, n_estimators=67; total time=  54.3s\n",
            "Fitting 5 folds for each of 1 candidates, totalling 5 fits\n",
            "[CV] END max_depth=95, max_features=log2, min_samples_leaf=89, min_samples_split=53, n_estimators=82; total time= 1.1min\n",
            "[CV] END max_depth=95, max_features=log2, min_samples_leaf=89, min_samples_split=53, n_estimators=82; total time= 1.1min\n",
            "[CV] END max_depth=95, max_features=log2, min_samples_leaf=89, min_samples_split=53, n_estimators=82; total time= 1.1min\n",
            "[CV] END max_depth=95, max_features=log2, min_samples_leaf=89, min_samples_split=53, n_estimators=82; total time= 1.1min\n",
            "[CV] END max_depth=95, max_features=log2, min_samples_leaf=89, min_samples_split=53, n_estimators=82; total time= 1.2min\n",
            "Fitting 5 folds for each of 1 candidates, totalling 5 fits\n",
            "[CV] END max_depth=36, max_features=log2, min_samples_leaf=81, min_samples_split=60, n_estimators=96; total time= 1.3min\n",
            "[CV] END max_depth=36, max_features=log2, min_samples_leaf=81, min_samples_split=60, n_estimators=96; total time= 1.3min\n",
            "[CV] END max_depth=36, max_features=log2, min_samples_leaf=81, min_samples_split=60, n_estimators=96; total time= 1.3min\n",
            "[CV] END max_depth=36, max_features=log2, min_samples_leaf=81, min_samples_split=60, n_estimators=96; total time= 1.3min\n",
            "[CV] END max_depth=36, max_features=log2, min_samples_leaf=81, min_samples_split=60, n_estimators=96; total time= 1.3min\n",
            "Fitting 5 folds for each of 1 candidates, totalling 5 fits\n",
            "[CV] END max_depth=18, max_features=sqrt, min_samples_leaf=66, min_samples_split=56, n_estimators=106; total time= 1.4min\n",
            "[CV] END max_depth=18, max_features=sqrt, min_samples_leaf=66, min_samples_split=56, n_estimators=106; total time= 1.4min\n",
            "[CV] END max_depth=18, max_features=sqrt, min_samples_leaf=66, min_samples_split=56, n_estimators=106; total time= 1.4min\n",
            "[CV] END max_depth=18, max_features=sqrt, min_samples_leaf=66, min_samples_split=56, n_estimators=106; total time= 1.4min\n",
            "[CV] END max_depth=18, max_features=sqrt, min_samples_leaf=66, min_samples_split=56, n_estimators=106; total time= 1.4min\n",
            "Fitting 5 folds for each of 1 candidates, totalling 5 fits\n",
            "[CV] END max_depth=53, max_features=sqrt, min_samples_leaf=68, min_samples_split=54, n_estimators=43; total time=  35.2s\n",
            "[CV] END max_depth=53, max_features=sqrt, min_samples_leaf=68, min_samples_split=54, n_estimators=43; total time=  36.4s\n",
            "[CV] END max_depth=53, max_features=sqrt, min_samples_leaf=68, min_samples_split=54, n_estimators=43; total time=  35.7s\n",
            "[CV] END max_depth=53, max_features=sqrt, min_samples_leaf=68, min_samples_split=54, n_estimators=43; total time=  36.3s\n",
            "[CV] END max_depth=53, max_features=sqrt, min_samples_leaf=68, min_samples_split=54, n_estimators=43; total time=  35.9s\n",
            "Fitting 5 folds for each of 1 candidates, totalling 5 fits\n",
            "[CV] END max_depth=60, max_features=auto, min_samples_leaf=68, min_samples_split=79, n_estimators=84; total time= 1.2min\n",
            "[CV] END max_depth=60, max_features=auto, min_samples_leaf=68, min_samples_split=79, n_estimators=84; total time= 1.2min\n",
            "[CV] END max_depth=60, max_features=auto, min_samples_leaf=68, min_samples_split=79, n_estimators=84; total time= 1.2min\n",
            "[CV] END max_depth=60, max_features=auto, min_samples_leaf=68, min_samples_split=79, n_estimators=84; total time= 1.2min\n",
            "[CV] END max_depth=60, max_features=auto, min_samples_leaf=68, min_samples_split=79, n_estimators=84; total time= 1.2min\n"
          ]
        },
        {
          "output_type": "execute_result",
          "data": {
            "text/plain": [
              "BayesSearchCV(cv=5, estimator=RandomForestClassifier(random_state=40),\n",
              "              n_iter=10, scoring='accuracy',\n",
              "              search_spaces={'max_depth': Integer(low=2, high=100, prior='uniform', transform='normalize'),\n",
              "                             'max_features': ['auto', 'sqrt', 'log2'],\n",
              "                             'min_samples_leaf': Integer(low=1, high=100, prior='uniform', transform='normalize'),\n",
              "                             'min_samples_split': Integer(low=2, high=100, prior='uniform', transform='normalize'),\n",
              "                             'n_estimators': Integer(low=1, high=140, prior='uniform', transform='normalize')},\n",
              "              verbose=2)"
            ]
          },
          "metadata": {},
          "execution_count": 60
        }
      ]
    },
    {
      "cell_type": "code",
      "source": [
        "rf_bayes.best_params_"
      ],
      "metadata": {
        "id": "UBrhvjPGuPcd",
        "colab": {
          "base_uri": "https://localhost:8080/"
        },
        "outputId": "6c3c0817-c5f3-4162-8243-6bcba606a64e"
      },
      "execution_count": null,
      "outputs": [
        {
          "output_type": "execute_result",
          "data": {
            "text/plain": [
              "OrderedDict([('max_depth', 26),\n",
              "             ('max_features', 'sqrt'),\n",
              "             ('min_samples_leaf', 27),\n",
              "             ('min_samples_split', 94),\n",
              "             ('n_estimators', 15)])"
            ]
          },
          "metadata": {},
          "execution_count": 62
        }
      ]
    },
    {
      "cell_type": "code",
      "source": [
        "rf_bayes.best_estimator_"
      ],
      "metadata": {
        "colab": {
          "base_uri": "https://localhost:8080/"
        },
        "id": "zIzTOa2zBRXw",
        "outputId": "c598d118-60bc-4105-839b-838a4074f8c6"
      },
      "execution_count": null,
      "outputs": [
        {
          "output_type": "execute_result",
          "data": {
            "text/plain": [
              "RandomForestClassifier(max_depth=26, max_features='sqrt', min_samples_leaf=27,\n",
              "                       min_samples_split=94, n_estimators=15, random_state=40)"
            ]
          },
          "metadata": {},
          "execution_count": 64
        }
      ]
    },
    {
      "cell_type": "code",
      "source": [
        "rf_bayestest_pred=rf_bayes.best_estimator_.predict(X_test)"
      ],
      "metadata": {
        "id": "3s9oLMq7uPaD"
      },
      "execution_count": null,
      "outputs": []
    },
    {
      "cell_type": "code",
      "source": [
        "rf_model_probability = rf_bayes.best_estimator_.predict_proba(X_test)[:,1]\n"
      ],
      "metadata": {
        "id": "9FYOYt24B9Ld"
      },
      "execution_count": null,
      "outputs": []
    },
    {
      "cell_type": "code",
      "source": [
        "# evaluating the model on the following metrics.\n",
        "accu_rf_hp = accuracy_score(y_test,rf_bayestest_pred)\n",
        "recall_rf_hp = recall_score(y_test,rf_bayestest_pred)\n",
        "prec_rf_hp = precision_score(y_test,rf_bayestest_pred)\n",
        "f1score_rf_hp=f1_score(y_test,rf_bayestest_pred)\n",
        "\n",
        "#print accuracy ,classification report and confusion matrix  values of model.\n",
        "\n",
        "print(accuracy_score(y_test, rf_bayestest_pred)*100)\n",
        "print(classification_report(y_test, rf_bayestest_pred))\n",
        "print(\"Confusion matrix\\n\", confusion_matrix(y_test, rf_bayestest_pred))"
      ],
      "metadata": {
        "colab": {
          "base_uri": "https://localhost:8080/"
        },
        "id": "wmhSpyxYAohc",
        "outputId": "497e7997-88e3-4f26-82f2-119afed5ad7a"
      },
      "execution_count": null,
      "outputs": [
        {
          "output_type": "stream",
          "name": "stdout",
          "text": [
            "85.5315490430622\n",
            "              precision    recall  f1-score   support\n",
            "\n",
            "           0       0.89      0.82      0.85     66882\n",
            "           1       0.83      0.90      0.86     66878\n",
            "\n",
            "    accuracy                           0.86    133760\n",
            "   macro avg       0.86      0.86      0.86    133760\n",
            "weighted avg       0.86      0.86      0.86    133760\n",
            "\n",
            "Confusion matrix\n",
            " [[54548 12334]\n",
            " [ 7019 59859]]\n"
          ]
        }
      ]
    },
    {
      "cell_type": "code",
      "source": [
        "# performance and evaluation\n",
        "from sklearn.metrics import roc_curve\n",
        "fpr, tpr, _ = roc_curve(y_test,rf_model_probability)\n",
        "\n",
        "plt.title('RandomForestClassifier')\n",
        "plt.xlabel('FPR (Precision)')\n",
        "plt.ylabel('TPR (Recall)')\n",
        "\n",
        "plt.plot(fpr,tpr)\n",
        "plt.plot((0,1), ls='dashed',color='black')\n",
        "plt.show()"
      ],
      "metadata": {
        "colab": {
          "base_uri": "https://localhost:8080/",
          "height": 295
        },
        "id": "yTfEMKKjBAJ6",
        "outputId": "d6dc24ff-4f26-476c-c579-1a9d24a08b00"
      },
      "execution_count": null,
      "outputs": [
        {
          "output_type": "display_data",
          "data": {
            "text/plain": [
              "<Figure size 432x288 with 1 Axes>"
            ],
            "image/png": "[encoded data removed]"
          },
          "metadata": {
            "needs_background": "light"
          }
        }
      ]
    },
    {
      "cell_type": "code",
      "source": [
        "# Confusion matrix useful to find how many values are classified correctly\n",
        "cm=confusion_matrix(y_test,rf_bayestest_pred)\n",
        "print(cm)\n",
        "sns.heatmap(cm,annot=True,cmap='BuPu')"
      ],
      "metadata": {
        "colab": {
          "base_uri": "https://localhost:8080/",
          "height": 320
        },
        "id": "EyPIHcqkBAJ7",
        "outputId": "9b2b1de5-ebd4-4dee-ca8e-e42edf1ad124"
      },
      "execution_count": null,
      "outputs": [
        {
          "output_type": "stream",
          "name": "stdout",
          "text": [
            "[[54548 12334]\n",
            " [ 7019 59859]]\n"
          ]
        },
        {
          "output_type": "execute_result",
          "data": {
            "text/plain": [
              "<matplotlib.axes._subplots.AxesSubplot at 0x7f7c71ac1050>"
            ]
          },
          "metadata": {},
          "execution_count": 69
        },
        {
          "output_type": "display_data",
          "data": {
            "text/plain": [
              "<Figure size 432x288 with 2 Axes>"
            ],
            "image/png": "[encoded data removed]"
          },
          "metadata": {
            "needs_background": "light"
          }
        }
      ]
    },
    {
      "cell_type": "markdown",
      "source": [
        "#**XGBoostClassifier**"
      ],
      "metadata": {
        "id": "kMJgV2a_BCB4"
      }
    },
    {
      "cell_type": "code",
      "source": [
        "#hyper parameter tuning\n",
        "xgb_model=xgb.XGBClassifier()\n",
        "#xgb = XGBoostClassifier()\n",
        "#Cross validation and hyperparameter tuning\n",
        "xgb_bayes = BayesSearchCV(estimator= xgb_model,\n",
        "                         search_spaces = {\n",
        "                          'max_depth': Integer(2,100),\n",
        "                          'min_samples_leaf': Integer(1,100),\n",
        "                          'min_samples_split': Integer(2,100),\n",
        "                          'n_estimators': Integer(1,140),\n",
        "                          'max_features': [\"auto\", \"sqrt\", \"log2\"]\n",
        "                        },\n",
        "                       cv = 5, verbose=2, scoring='accuracy',n_iter=4)\n",
        "\n",
        "xgb_bayes.fit(X_train,y_train)"
      ],
      "metadata": {
        "id": "fLbNsqBLtKi2",
        "colab": {
          "base_uri": "https://localhost:8080/"
        },
        "outputId": "96eab116-4492-4d43-fcda-850cdc7a4297"
      },
      "execution_count": null,
      "outputs": [
        {
          "output_type": "stream",
          "name": "stdout",
          "text": [
            "Fitting 5 folds for each of 1 candidates, totalling 5 fits\n",
            "[CV] END max_depth=12, max_features=sqrt, min_samples_leaf=56, min_samples_split=55, n_estimators=129; total time= 2.7min\n",
            "[CV] END max_depth=12, max_features=sqrt, min_samples_leaf=56, min_samples_split=55, n_estimators=129; total time= 2.4min\n",
            "[CV] END max_depth=12, max_features=sqrt, min_samples_leaf=56, min_samples_split=55, n_estimators=129; total time= 2.4min\n",
            "[CV] END max_depth=12, max_features=sqrt, min_samples_leaf=56, min_samples_split=55, n_estimators=129; total time= 2.5min\n",
            "[CV] END max_depth=12, max_features=sqrt, min_samples_leaf=56, min_samples_split=55, n_estimators=129; total time= 3.6min\n",
            "Fitting 5 folds for each of 1 candidates, totalling 5 fits\n",
            "[CV] END max_depth=99, max_features=auto, min_samples_leaf=55, min_samples_split=68, n_estimators=110; total time=14.5min\n",
            "[CV] END max_depth=99, max_features=auto, min_samples_leaf=55, min_samples_split=68, n_estimators=110; total time=14.5min\n",
            "[CV] END max_depth=99, max_features=auto, min_samples_leaf=55, min_samples_split=68, n_estimators=110; total time=14.3min\n",
            "[CV] END max_depth=99, max_features=auto, min_samples_leaf=55, min_samples_split=68, n_estimators=110; total time=14.1min\n",
            "[CV] END max_depth=99, max_features=auto, min_samples_leaf=55, min_samples_split=68, n_estimators=110; total time=14.2min\n",
            "Fitting 5 folds for each of 1 candidates, totalling 5 fits\n",
            "[CV] END max_depth=11, max_features=log2, min_samples_leaf=36, min_samples_split=89, n_estimators=93; total time= 1.5min\n",
            "[CV] END max_depth=11, max_features=log2, min_samples_leaf=36, min_samples_split=89, n_estimators=93; total time= 1.5min\n",
            "[CV] END max_depth=11, max_features=log2, min_samples_leaf=36, min_samples_split=89, n_estimators=93; total time= 1.5min\n",
            "[CV] END max_depth=11, max_features=log2, min_samples_leaf=36, min_samples_split=89, n_estimators=93; total time= 1.5min\n",
            "[CV] END max_depth=11, max_features=log2, min_samples_leaf=36, min_samples_split=89, n_estimators=93; total time= 1.5min\n",
            "Fitting 5 folds for each of 1 candidates, totalling 5 fits\n",
            "[CV] END max_depth=33, max_features=log2, min_samples_leaf=61, min_samples_split=58, n_estimators=83; total time= 4.6min\n",
            "[CV] END max_depth=33, max_features=log2, min_samples_leaf=61, min_samples_split=58, n_estimators=83; total time= 4.7min\n",
            "[CV] END max_depth=33, max_features=log2, min_samples_leaf=61, min_samples_split=58, n_estimators=83; total time= 4.8min\n",
            "[CV] END max_depth=33, max_features=log2, min_samples_leaf=61, min_samples_split=58, n_estimators=83; total time= 4.8min\n",
            "[CV] END max_depth=33, max_features=log2, min_samples_leaf=61, min_samples_split=58, n_estimators=83; total time= 4.7min\n"
          ]
        },
        {
          "output_type": "execute_result",
          "data": {
            "text/plain": [
              "BayesSearchCV(cv=5, estimator=XGBClassifier(), n_iter=4, scoring='accuracy',\n",
              "              search_spaces={'max_depth': Integer(low=2, high=100, prior='uniform', transform='normalize'),\n",
              "                             'max_features': ['auto', 'sqrt', 'log2'],\n",
              "                             'min_samples_leaf': Integer(low=1, high=100, prior='uniform', transform='normalize'),\n",
              "                             'min_samples_split': Integer(low=2, high=100, prior='uniform', transform='normalize'),\n",
              "                             'n_estimators': Integer(low=1, high=140, prior='uniform', transform='normalize')},\n",
              "              verbose=2)"
            ]
          },
          "metadata": {},
          "execution_count": 70
        }
      ]
    },
    {
      "cell_type": "code",
      "source": [
        "xgb_bayes.best_params_\n"
      ],
      "metadata": {
        "id": "txqBpMINtRL0",
        "colab": {
          "base_uri": "https://localhost:8080/"
        },
        "outputId": "9f6799b7-f27d-440f-e315-36325af25126"
      },
      "execution_count": null,
      "outputs": [
        {
          "output_type": "execute_result",
          "data": {
            "text/plain": [
              "OrderedDict([('max_depth', 99),\n",
              "             ('max_features', 'auto'),\n",
              "             ('min_samples_leaf', 55),\n",
              "             ('min_samples_split', 68),\n",
              "             ('n_estimators', 110)])"
            ]
          },
          "metadata": {},
          "execution_count": 72
        }
      ]
    },
    {
      "cell_type": "code",
      "source": [
        "xgb_bayes.best_estimator_"
      ],
      "metadata": {
        "id": "29jhuX7qtTg_",
        "colab": {
          "base_uri": "https://localhost:8080/"
        },
        "outputId": "1288626d-fa4a-4e81-fd2f-05e646d9361d"
      },
      "execution_count": null,
      "outputs": [
        {
          "output_type": "execute_result",
          "data": {
            "text/plain": [
              "XGBClassifier(max_depth=99, max_features='auto', min_samples_leaf=55,\n",
              "              min_samples_split=68, n_estimators=110)"
            ]
          },
          "metadata": {},
          "execution_count": 74
        }
      ]
    },
    {
      "cell_type": "code",
      "source": [
        "xgbtest_pred=xgb_bayes.best_estimator_.predict(X_test)"
      ],
      "metadata": {
        "id": "VZP2sDtRttq2"
      },
      "execution_count": null,
      "outputs": []
    },
    {
      "cell_type": "code",
      "source": [
        "xgb_model_probability = rf_bayes.best_estimator_.predict_proba(X_test)[:,1]\n"
      ],
      "metadata": {
        "id": "cKgcsPPjCvtK"
      },
      "execution_count": null,
      "outputs": []
    },
    {
      "cell_type": "code",
      "source": [
        "# evaluating the model on the following metrics.\n",
        "accu_xgb_hp = accuracy_score(y_test,xgbtest_pred)\n",
        "recall_xgb_hp= recall_score(y_test,xgbtest_pred)\n",
        "prec_xgb_hp = precision_score(y_test,xgbtest_pred)\n",
        "f1score_xgb_hp=f1_score(y_test,xgbtest_pred)\n",
        "\n",
        "#print accuracy ,classification report and confusion matrix  values of model.\n",
        "\n",
        "print(accuracy_score(y_test, xgbtest_pred)*100)\n",
        "print(classification_report(y_test, xgbtest_pred))\n",
        "print(\"Confusion matrix\\n\", confusion_matrix(y_test, xgbtest_pred))"
      ],
      "metadata": {
        "colab": {
          "base_uri": "https://localhost:8080/"
        },
        "id": "SBn0YHL7CvtL",
        "outputId": "05f43adf-144d-4feb-d4d3-a74bb9ef4ed0"
      },
      "execution_count": null,
      "outputs": [
        {
          "output_type": "stream",
          "name": "stdout",
          "text": [
            "90.60257177033493\n",
            "              precision    recall  f1-score   support\n",
            "\n",
            "           0       0.91      0.90      0.91     66882\n",
            "           1       0.90      0.92      0.91     66878\n",
            "\n",
            "    accuracy                           0.91    133760\n",
            "   macro avg       0.91      0.91      0.91    133760\n",
            "weighted avg       0.91      0.91      0.91    133760\n",
            "\n",
            "Confusion matrix\n",
            " [[59939  6943]\n",
            " [ 5627 61251]]\n"
          ]
        }
      ]
    },
    {
      "cell_type": "code",
      "source": [
        "# performance and evaluation\n",
        "from sklearn.metrics import roc_curve\n",
        "fpr, tpr, _ = roc_curve(y_test,xgb_model_probability)\n",
        "\n",
        "plt.title('XGB Classifier curve')\n",
        "plt.xlabel('FPR (Precision)')\n",
        "plt.ylabel('TPR (Recall)')\n",
        "\n",
        "plt.plot(fpr,tpr)\n",
        "plt.plot((0,1), ls='dashed',color='black')\n",
        "plt.show()"
      ],
      "metadata": {
        "colab": {
          "base_uri": "https://localhost:8080/",
          "height": 295
        },
        "id": "YSWXg3kkCvtL",
        "outputId": "97b7f209-a570-4c32-dec7-be278435ea93"
      },
      "execution_count": null,
      "outputs": [
        {
          "output_type": "display_data",
          "data": {
            "text/plain": [
              "<Figure size 432x288 with 1 Axes>"
            ],
            "image/png": "[encoded data removed]"
          },
          "metadata": {
            "needs_background": "light"
          }
        }
      ]
    },
    {
      "cell_type": "code",
      "source": [
        "# Confusion matrix useful to find how many values are classified correctly\n",
        "cm=confusion_matrix(y_test,xgbtest_pred)\n",
        "print(cm)\n",
        "sns.heatmap(cm,annot=True,cmap='BuPu')"
      ],
      "metadata": {
        "colab": {
          "base_uri": "https://localhost:8080/",
          "height": 320
        },
        "id": "aXUjWiL-CvtL",
        "outputId": "1029d83a-8f25-41f3-ae2a-6503d53a1f8a"
      },
      "execution_count": null,
      "outputs": [
        {
          "output_type": "stream",
          "name": "stdout",
          "text": [
            "[[59939  6943]\n",
            " [ 5627 61251]]\n"
          ]
        },
        {
          "output_type": "execute_result",
          "data": {
            "text/plain": [
              "<matplotlib.axes._subplots.AxesSubplot at 0x7f7c68371910>"
            ]
          },
          "metadata": {},
          "execution_count": 79
        },
        {
          "output_type": "display_data",
          "data": {
            "text/plain": [
              "<Figure size 432x288 with 2 Axes>"
            ],
            "image/png": "[encoded data removed]"
          },
          "metadata": {
            "needs_background": "light"
          }
        }
      ]
    },
    {
      "cell_type": "markdown",
      "source": [
        "#**Comparing The Model After Hyperparameter Tuning**"
      ],
      "metadata": {
        "id": "TbcnPVxpyBWI"
      }
    },
    {
      "cell_type": "code",
      "source": [
        "## Comparing the performance of the models\n",
        "ind=['Randomforest','XGBClassifier']\n",
        "df={\"Accuracy\":[accu_rf_hp,accu_xgb_hp],\"Recall\":[recall_rf_hp,recall_xgb_hp],\"Precision\":[prec_rf_hp,prec_xgb_hp],'f1_score':[f1score_rf_hp,f1score_xgb_hp]}\n",
        "result=pd.DataFrame(data=df,index=ind)\n",
        "result"
      ],
      "metadata": {
        "colab": {
          "base_uri": "https://localhost:8080/",
          "height": 112
        },
        "id": "oQ_fHpaGx_Wx",
        "outputId": "648fda47-1c66-4ffb-a4c1-a567545d0d1d"
      },
      "execution_count": null,
      "outputs": [
        {
          "output_type": "execute_result",
          "data": {
            "text/plain": [
              "               Accuracy    Recall  Precision  f1_score\n",
              "Randomforest   0.855315  0.895048   0.829152  0.860841\n",
              "XGBClassifier  0.906026  0.915862   0.898188  0.906939"
            ],
            "text/html": [
              "\n",
              "  <div id=\"df-f78e1d50-f4fe-4510-8211-97670a4d67be\">\n",
              "    <div class=\"colab-df-container\">\n",
              "      <div>\n",
              "<style scoped>\n",
              "    .dataframe tbody tr th:only-of-type {\n",
              "        vertical-align: middle;\n",
              "    }\n",
              "\n",
              "    .dataframe tbody tr th {\n",
              "        vertical-align: top;\n",
              "    }\n",
              "\n",
              "    .dataframe thead th {\n",
              "        text-align: right;\n",
              "    }\n",
              "</style>\n",
              "<table border=\"1\" class=\"dataframe\">\n",
              "  <thead>\n",
              "    <tr style=\"text-align: right;\">\n",
              "      <th></th>\n",
              "      <th>Accuracy</th>\n",
              "      <th>Recall</th>\n",
              "      <th>Precision</th>\n",
              "      <th>f1_score</th>\n",
              "    </tr>\n",
              "  </thead>\n",
              "  <tbody>\n",
              "    <tr>\n",
              "      <th>Randomforest</th>\n",
              "      <td>0.855315</td>\n",
              "      <td>0.895048</td>\n",
              "      <td>0.829152</td>\n",
              "      <td>0.860841</td>\n",
              "    </tr>\n",
              "    <tr>\n",
              "      <th>XGBClassifier</th>\n",
              "      <td>0.906026</td>\n",
              "      <td>0.915862</td>\n",
              "      <td>0.898188</td>\n",
              "      <td>0.906939</td>\n",
              "    </tr>\n",
              "  </tbody>\n",
              "</table>\n",
              "</div>\n",
              "      <button class=\"colab-df-convert\" onclick=\"convertToInteractive('df-f78e1d50-f4fe-4510-8211-97670a4d67be')\"\n",
              "              title=\"Convert this dataframe to an interactive table.\"\n",
              "              style=\"display:none;\">\n",
              "        \n",
              "  <svg xmlns=\"http://www.w3.org/2000/svg\" height=\"24px\"viewBox=\"0 0 24 24\"\n",
              "       width=\"24px\">\n",
              "    <path d=\"M0 0h24v24H0V0z\" fill=\"none\"/>\n",
              "    <path d=\"M18.56 5.44l.94 2.06.94-2.06 2.06-.94-2.06-.94-.94-2.06-.94 2.06-2.06.94zm-11 1L8.5 8.5l.94-2.06 2.06-.94-2.06-.94L8.5 2.5l-.94 2.06-2.06.94zm10 10l.94 2.06.94-2.06 2.06-.94-2.06-.94-.94-2.06-.94 2.06-2.06.94z\"/><path d=\"M17.41 7.96l-1.37-1.37c-.4-.4-.92-.59-1.43-.59-.52 0-1.04.2-1.43.59L10.3 9.45l-7.72 7.72c-.78.78-.78 2.05 0 2.83L4 21.41c.39.39.9.59 1.41.59.51 0 1.02-.2 1.41-.59l7.78-7.78 2.81-2.81c.8-.78.8-2.07 0-2.86zM5.41 20L4 18.59l7.72-7.72 1.47 1.35L5.41 20z\"/>\n",
              "  </svg>\n",
              "      </button>\n",
              "      \n",
              "  <style>\n",
              "    .colab-df-container {\n",
              "      display:flex;\n",
              "      flex-wrap:wrap;\n",
              "      gap: 12px;\n",
              "    }\n",
              "\n",
              "    .colab-df-convert {\n",
              "      background-color: #E8F0FE;\n",
              "      border: none;\n",
              "      border-radius: 50%;\n",
              "      cursor: pointer;\n",
              "      display: none;\n",
              "      fill: #1967D2;\n",
              "      height: 32px;\n",
              "      padding: 0 0 0 0;\n",
              "      width: 32px;\n",
              "    }\n",
              "\n",
              "    .colab-df-convert:hover {\n",
              "      background-color: #E2EBFA;\n",
              "      box-shadow: 0px 1px 2px rgba(60, 64, 67, 0.3), 0px 1px 3px 1px rgba(60, 64, 67, 0.15);\n",
              "      fill: #174EA6;\n",
              "    }\n",
              "\n",
              "    [theme=dark] .colab-df-convert {\n",
              "      background-color: #3B4455;\n",
              "      fill: #D2E3FC;\n",
              "    }\n",
              "\n",
              "    [theme=dark] .colab-df-convert:hover {\n",
              "      background-color: #434B5C;\n",
              "      box-shadow: 0px 1px 3px 1px rgba(0, 0, 0, 0.15);\n",
              "      filter: drop-shadow(0px 1px 2px rgba(0, 0, 0, 0.3));\n",
              "      fill: #FFFFFF;\n",
              "    }\n",
              "  </style>\n",
              "\n",
              "      <script>\n",
              "        const buttonEl =\n",
              "          document.querySelector('#df-f78e1d50-f4fe-4510-8211-97670a4d67be button.colab-df-convert');\n",
              "        buttonEl.style.display =\n",
              "          google.colab.kernel.accessAllowed ? 'block' : 'none';\n",
              "\n",
              "        async function convertToInteractive(key) {\n",
              "          const element = document.querySelector('#df-f78e1d50-f4fe-4510-8211-97670a4d67be');\n",
              "          const dataTable =\n",
              "            await google.colab.kernel.invokeFunction('convertToInteractive',\n",
              "                                                     [key], {});\n",
              "          if (!dataTable) return;\n",
              "\n",
              "          const docLinkHtml = 'Like what you see? Visit the ' +\n",
              "            '<a target=\"_blank\" href=https://colab.research.google.com/notebooks/data_table.ipynb>data table notebook</a>'\n",
              "            + ' to learn more about interactive tables.';\n",
              "          element.innerHTML = '';\n",
              "          dataTable['output_type'] = 'display_data';\n",
              "          await google.colab.output.renderOutput(dataTable, element);\n",
              "          const docLink = document.createElement('div');\n",
              "          docLink.innerHTML = docLinkHtml;\n",
              "          element.appendChild(docLink);\n",
              "        }\n",
              "      </script>\n",
              "    </div>\n",
              "  </div>\n",
              "  "
            ]
          },
          "metadata": {},
          "execution_count": 80
        }
      ]
    },
    {
      "cell_type": "markdown",
      "source": [
        "#**Conclusion**"
      ],
      "metadata": {
        "id": "mJvlZBQDNk2p"
      }
    },
    {
      "cell_type": "markdown",
      "source": [
        "\n",
        "\n",
        "*  The given dataset is an imbalance problem as the Response variable with the value 1 is significantly lower than the value zero\n",
        "\n",
        "*   The male customers own slightly more vehicles and they are more tend to buy insurance in comparison to their female counterparts.\n",
        "\n",
        "*   The male customers own slightly more vehicles and they are more tend to buy insurance in comparison to their female counterparts.\n",
        "\n",
        "*   Customers of aged between 30 to 60 are more likely to buy insurance.wheras Youngsters under 30 are not intrigued by vehicle insurance. Reasons could be the absence of involvement, less awareness about insurance and they may not have costly vehicles yet.\n",
        "\n",
        "*  the customers who have driving licences will option for insurance instead of those who don’t have it\n",
        "\n",
        "*  Consumers with 1-2-year-old vehicles are more interested in buying insurance. as compared to Consumers with less than 1-year-old Vehicles\n",
        "\n",
        "*   Customers with Vehicle_Damage are likely to buy insurance as they have experienced the expenditure in repairing vehicles\n",
        "The variable such as Age, Previously_insured, Annual_premium is more affecting the target variable.\n",
        "\n",
        "*  \tWe used different type of algorithms to train our model like, Logistic Regression, Random Forest model, Decision tree and XGB Classifier. And Also we tuned the parameters of XGB Classifier and Random Forest model Comparing the model on the basis of  precision,recall, accuracy ,F1 score we can see that the XGBClassifier  model performs better.Even comparing ROC curve XGB Classifier performed better because curves closer to the top-left corner indicate better performance.\n",
        "\n",
        "\n",
        " "
      ],
      "metadata": {
        "id": "xUzct7bCNs42"
      }
    }
  ],
  "metadata": {
    "colab": {
      "collapsed_sections": [
        "EbpmPuEy4LKR",
        "MUYxg0DD4QEv",
        "LQCBAHuu5aUh",
        "8WQlzdB58ruk",
        "IDbiCi7C9pNc",
        "wCAHj7_N7HqD",
        "ln8VH4h6-Nxy",
        "ce9MYVbS-jlT",
        "pH1uT8_EW-Fm"
      ],
      "name": "Copy of final 2 of HEALTH INSURANCE CROSS SELL PREDICTION.ipynb",
      "provenance": [],
      "include_colab_link": true
    },
    "kernelspec": {
      "display_name": "Python 3",
      "name": "python3"
    },
    "language_info": {
      "name": "python"
    }
  },
  "nbformat": 4,
  "nbformat_minor": 0
}